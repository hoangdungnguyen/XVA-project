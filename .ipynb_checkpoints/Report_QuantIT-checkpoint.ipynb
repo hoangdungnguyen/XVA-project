{
  "nbformat": 4,
  "nbformat_minor": 0,
  "metadata": {
    "colab": {
      "name": "Report QuantIT.ipynb",
      "provenance": [],
      "collapsed_sections": []
    },
    "kernelspec": {
      "name": "python3",
      "display_name": "Python 3"
    },
    "accelerator": "GPU"
  },
  "cells": [
    {
      "cell_type": "markdown",
      "metadata": {
        "id": "RdVbryCUIJud",
        "colab_type": "text"
      },
      "source": [
        " **XVA ANALYSIS PROJECT**\n",
        "\n",
        " This project is based on the article [Y. Armenti, C. Zhou and S. Crépey (2017)](https://math.maths.univ-evry.fr/crepey/papers/bsfbsde.pdf).\n",
        "\n"
      ]
    },
    {
      "cell_type": "markdown",
      "metadata": {
        "id": "iPrjaT7LjTIW",
        "colab_type": "text"
      },
      "source": [
        "# 1   Introduction\n",
        "\n",
        "An xVA metrics refers collectively to a number of different \"Valuation Adjustments\" in relation to derivative instruments held by banks. The purpose of these is twofold: primarily to hedge for possible losses due to counterparty default; but also, to determine (and hedge) the amount of capital required by regulators. xVA has, in many institutions, led to the creation of specialized desks. VA stands for valuation adjustment and X is a catch-all letter to be replaced by C for credit, D for debt, F for funding, M for margin, and K for capital.\n",
        "\n",
        "In incomplete markets, a basic Black-Scholes perspective has to be complemented by the valuation of market imperfections. Otherwise this results in Black-Scholes Ponzi schemes, such as the ones at the core of the last global financial crisis, where always more derivatives need to be issued for temunarating the capital attracted by the already opened positions. In this work, we have considered the sustainable Black-Scholes equations that arise for a portfolio of options if one adds to their trade additive Black-Scholes price, on top of a nonlinear funding cost, the cost of remunerating at a hurdle rate the residual risk left by imperfection hedging."
      ]
    },
    {
      "cell_type": "markdown",
      "metadata": {
        "id": "p09Q5i_sucEb",
        "colab_type": "text"
      },
      "source": [
        "# 2   XVA Problems\n",
        "\n",
        "The main purpose in our work is the pricing of a book of options accounting for cost of capital (KVA) and cost of funding (FVA), which are material in incomplete markets.\n",
        "\n",
        "To do that, we consider a portfolio of options made of $\\omega_{j = 1, \\dots, m}$ vanilla calls of maturity $T_j$ and strike $K_j$ on a stock $S$, with $0 < T_1 < \\dots < T_m = T$. Note that, if a corporate holds a bank payable, it typoically has an appetite to close it, receive cash, and restructure the hedge otherwise with a par contract (the bank would agree to close the deal as a market maker, charging fees for the new trade)."
      ]
    },
    {
      "cell_type": "markdown",
      "metadata": {
        "id": "ue32ZKK0zG-H",
        "colab_type": "text"
      },
      "source": [
        "## 2.1 Cost of Capital\n",
        "\n",
        "In presence of hedging imperfections resulting in a nonvanishing loss (and profit) process $L$ of the bank, a conditionnal risk measure $EC = EC_t(L)$ must be dynamically computed and reserved by the bank as economic capital.\n",
        "\n",
        "It is established that the capital valuation adjusment $(KVA)$ needed by the bank in order to remunerate its shareholders for their capital ar risk at some average hurdle rate $h$ at any point in time in the future is:\n",
        "\n",
        "\\begin{eqnarray}\n",
        "KVA = KVA_t(L) = h \\hspace{0.1cm} \\mathbb{E}_t \\int_t^T e^{- (r+h)(s-t)} EC_s(L) ds\n",
        "\\end{eqnarray}\n",
        "\n",
        "where $\\mathbb{E}_t$ stands for the conditionnal expectation with respect to some risk-neutral measure $\\mathbb{Q}_t$ calibrated to the market and model filtration.\n"
      ]
    },
    {
      "cell_type": "markdown",
      "metadata": {
        "id": "tDTOhPN7H9Bi",
        "colab_type": "text"
      },
      "source": [
        "## 2.2 Cost of Funding\n",
        "\n",
        "Let $r_t$ denote a risk-free OIS short term interest rate and $\\beta_t = e^{- \\int_0^t r_s ds}$ be the corresponding risk-neutral discount factor. We assume that the bank can invest at the risk-free rate $r$ but can only obtain unsecured funding at a shifted rate $r + \\lambda > r$. This entails funding costs\n",
        "over OIS and a related funding valuation adjustment (FVA) for the bank. Given our focus\n",
        "on capital and funding in this paper, we ignore counterparty risk for simplicity, so that $\\lambda$ is interpreted as a pure finding liquidity basis. In order to exclude arbitrages in the primary\n",
        "market of hedging instruments, we assume that the vector gain process $\\mathcal{M}$ of unit positions\n",
        "held in the hedging assets is a risk-neutral martingale. The bank \\marks to the model\"\n",
        "its derivative portfolio, assumed bought from the client at time $0$, by means of an FVA-deducted value process $CA$. The bank may also set up a (possibly imperfect) hedge $(- \\eta)$ in the hedging assets, for some predictable row-vector process $\\eta$ of the same dimension as $\\mathcal{M}$. We assume that the depreciation of $CA$, the funding expenditures and the loss $\\eta d \\mathcal{M}$ on the hedge, minus the option payoffs as they mature, are instantaneously realized into\n",
        "the loss(-and-profit) process $L$ of the bank. In particular, at any time $t$, the amount on\n",
        "the funding account of the bank is $CA_t$. Moreover, we assume that the economic capital can\n",
        "be used by the trader for her funding purposes provided she pays to the shareholders the\n",
        "OIS rate on $EC$ that they would make otherwise by depositing it (assuming it all cash for\n",
        "simplicity).\n",
        "\n",
        "Note that the value process $CA$ of the trade already includes the $FVA$ as a deduction, but ignores the $KVA$, which is considered as a risk adjustment computed in a second step (in pther words, we assume that the trader's account and the $KVA$ account are kept separate from each other). The loss equation of the trader is written, for $t \\in (0, T]$, as (starting $L_0 = y$, the accrued loss of the portfolio):\n",
        "\n",
        "\\begin{equation}\n",
        "d L_t = - d CA_t - \\sum_j {\\omega_j (S_{T_j} - K_j)^+ \\delta_{T_j}(dt)} + (\\lambda_t (CA_t - EC_t(L))^+ + r_t CA_t) dt + \\eta d \\mathcal{M}\n",
        "\\end{equation}\n",
        "\n",
        "Hence, a no-arbitrage condition that the loss process $L$ of the bank should follow a risk-neutral martingale (assuming integrability) and the terminal condition $CA_T = 0$ lead to the following FVA-deducted risk-neutral valuation BSDE:\n",
        "\n",
        "$$CA_{t}=\\underbrace{\\mathbb{E}_{t}\\left[\\sum_{t<T_{j}} \\beta_{t}^{-1} \\beta_{T_{j}} \\omega_{j}\\left(S_{T_{j}}-K_{j}\\right)^{+}\\right]}_{CA_{t}^{0}}-\\underbrace{\\mathbb{E}_{t}\\left[\\int_{t}^{T} \\beta_{t}^{-1} \\beta_{s} \\lambda_{s}\\left(CA_{s}-\\mathrm{EC}_{s}(\\varrho)\\right)^{+} d s\\right]}_{\\mathrm{FVA}_{t}}, t \\in[0, T]$$\n",
        "\n",
        "In particular, $CA_T = 0$.\n"
      ]
    },
    {
      "cell_type": "markdown",
      "metadata": {
        "id": "JkrRi-JCIAfU",
        "colab_type": "text"
      },
      "source": [
        "## 2.3 Markovian Black-Scholes Setup\n",
        "\n",
        "We assume \n",
        "\n",
        "\n",
        "\n",
        "*  A constant risk-free rate $r$ and a Black-Scholes $S$ with volatility $\\sigma$ and constant dividend yield $q$. \n",
        "*   The risk-neutral martingale : $d \\mathcal{M}_{t}=d S_{t}-(r-q) S_{t} d t$.\n",
        "* $\\mathcal{A}_{S}^{b s}= \\kappa S \\partial_{S}+\\frac{1}{2} \\sigma^{2} S^{2} \\partial_{S^{2}}^{2}$ the corresponding risk-neutral Black-Scholes generator with $\\kappa = r-q$.\n",
        "\n",
        "In the Black-Scholes setup and assuming a stylized markovian specification:\n",
        "\n",
        "$$\\mathrm{EC}_{t}(\\varrho)=f \\sqrt{\\frac{d\\langle\\varrho\\rangle}{d t}}.$$\n",
        "\n",
        "as well as $\\lambda = \\lambda(t, S_t)$, $\\eta_t = \\eta(t, S_t)$, Then the above $FVA$ and $KVA$ equations can be reduced to a \"sustainable Black-Scholes PGEs\" equation.\n",
        "\n",
        "First, observe that given a tentative FVA-deducted price process of the form $CA_t = u(t, S_t)$ for some to-be-determined function $u = u(t, S_t)$, we have:\n",
        "\n",
        "$$\\sqrt{\\frac{d\\langle\\varrho\\rangle}{d t}}=\\sigma S_{t}\\left|\\partial_{S} u\\left(t, S_{t}\\right)-\\eta\\left(t, S_{t}\\right)\\right|.$$\n",
        "\n",
        "Itô calculus shows that the process $CA = (u(t, S_t))_t$ solves the Markovian, monotonic driver (assuming $\\lambda$ bounded from below) BSDE.\n",
        "\n",
        "$$\\begin{aligned}\n",
        "u\\left(t, S_{t}\\right) &=\\mathbb{E}_{t}\\left[\\sum_{t<T_{j}} \\beta_{t}^{-1} \\beta_{T_{j}} \\omega_{j}\\left(S_{T_{j}}-K_{j}\\right)^{+}\\right.\\\\\n",
        "&\\left.-\\int_{t}^{T} \\beta_{t}^{-1} \\beta_{s} \\lambda_{s}\\left(u\\left(s, S_{s}\\right)-f \\sigma S_{s}\\left|\\partial_{S} u\\left(s, S_{s}\\right)-\\eta\\left(s, S_{s}\\right)\\right|\\right)^{+} d s\\right], t \\in[0, T]\n",
        "\\end{aligned}$$\n",
        "\n",
        "The ensuing $FVA = CA^{(0)} - CA$ and $KVA$ processes are given as:\n",
        "\n",
        "$$\\mathrm{FVA}_{t}(L)=\\mathbb{E}_{t}\\left[\\int_{t}^{T} e^{-r(s-t)} \\lambda_{s}\\left(u\\left(s, S_{s}\\right)-f \\sqrt{\\frac{d\\langle\\varrho\\rangle}{d s}}\\right)^{+} d s\\right]$$\n",
        "\n",
        "$$\\mathrm{KVA}_{t}(L)=h \\mathbb{E}_{t}\\left[\\int_{t}^{T} e^{-(r+h)(s-t)} f \\sqrt{\\frac{d\\langle\\varrho\\rangle}{d s}} d s\\right]$$\n",
        "\n",
        "We set $\\eta = (1 - \\alpha) \\partial_S u$, where $\\alpha \\in [0, 100\\%]$ is the mis-hedge parameter, then the latter reduces to $\\alpha \\sigma S_{t}\\left|\\partial_{S} u\\left(t, S_{t}\\right)\\right|$ and we have:\n",
        "\n",
        "$$\\begin{aligned}\n",
        "\\mathrm{FVA}_{t}(L)=\\mathbb{E}_{t} &\\left[\\int_{t}^{T} e^{-r(s-t)} \\lambda_{s}\\left(u\\left(s, S_{s}\\right)-\\alpha f \\sigma S_{s}\\left|\\partial_{S} u\\left(s, S_{s}\\right)\\right|\\right)^{+} d s\\right] \\\\\n",
        "&=v\\left(t, S_{t}\\right)=u_{b s}\\left(t, S_{t}\\right)-u\\left(t, S_{t}\\right)\n",
        "\\end{aligned}$$\n",
        "\n",
        "\n",
        "$$\\mathrm{KVA}_{t}(L)=h \\mathbb{E}_{t}\\left[\\int_{t}^{T} e^{-(r+h)(s-t)} \\alpha f \\sigma S_{s}\\left|\\partial_{S u}\\left(s, S_{s}\\right)\\right| d s\\right]=w\\left(t, S_{t}\\right)$$\n",
        "\n",
        "where $u_{bs}$ is the trade additive Black-Scholes portfolio value and where the $FVA$ and $KVA$\n",
        "pricing functions $v$ and $w$ satisfy\n",
        "\n",
        "$$\\left\\{\\begin{array}{l}\n",
        "v(T, S)=w(T, S)=0 \\text { on }(0, \\infty) \\\\\n",
        "\\partial_{t} v+\\mathcal{A}_{S}^{b s} v+\\lambda\\left(u_{b s}-v-\\alpha f \\sigma S\\left|\\Delta_{b s}-\\partial_{S} v\\right|\\right)^{+}-r v=0 \\text { on }[0, T) \\times(0, \\infty) \\\\\n",
        "\\partial_{t} w+\\mathcal{A}_{S}^{b s} w+\\alpha h f \\sigma S\\left|\\Delta_{b s}-\\partial_{S} v\\right|-(r+h) w=0 \\text { on }[0, T) \\times(0, \\infty)\n",
        "\\end{array}\\right.$$\n",
        "\n",
        "in which $\\Delta_{bs} = \\partial_S u_{bs}$.\n",
        "\n",
        "  These \"sustainable Black-Scholes PDEs\" allow computing an $FVA$ and $KVA$ deducted price\n",
        "\n",
        "  $$u-w=u_{b s}-v-w$$\n",
        "\n",
        "that would be sustainable for the bank even in the limit case of a portfolio held on a run-off\n",
        "basis, with no new trades ever entered in the future.\n",
        "\n",
        "In this report, we consider 2 possible variants $v$ 's and $w$ 's of the respective $FVA$ and $KVA$ pricing functions satisfying null terminal conditions at time $T$, along with \n"
      ]
    },
    {
      "cell_type": "markdown",
      "metadata": {
        "id": "DTWsw0y-SJHu",
        "colab_type": "text"
      },
      "source": [
        "\\begin{equation}\\left\\{\\begin{array}{l}\n",
        "\\partial_{t} v_{1}+\\mathcal{A}_{S}^{b s} v_{1}+\\lambda\\left(\\alpha f \\sigma S\\left|\\partial_{S} v_{1} + \\Delta_{b s}\\right|+v_{1} -u_{b s}\\right)^{-}-r v_{1}=0 \\text { on }[0,T) \\times (0,\\infty) \\hspace{0.5cm}(\\mbox{method } 3.2)\\\\\n",
        "\\partial_{t} w+\\mathcal{A}_{S}^{b s} w+ h \\max \\left( \\alpha f \\sigma S\\left|\\partial_{S} v+\\Delta_{b s}\\right|, w\\right)-(r+h) w=0 \\text { on }[0, T) \\times (0,\\infty) \\hspace{0.5cm}(\\mbox{method } 2.1)\n",
        "\\end{array}\\right.\\end{equation}\n"
      ]
    },
    {
      "cell_type": "markdown",
      "metadata": {
        "id": "pF0qEu8_LX9I",
        "colab_type": "text"
      },
      "source": [
        "\n",
        "\\begin{equation}\n",
        "\\left\\{\\begin{array}{l}\n",
        "\\partial_{t} v_{1}+\\mathcal{A}_{S}^{b s} v_{1}+\\lambda\\left(\\alpha f \\sigma S\\left|\\partial_{S} v_{1}+\\Delta_{b s}\\right|+v_{1}-u_{b s}\\right)^{-}-r v_{1}=0 \\text { on }[0, T) \\times (0,\\infty) \\hspace{0.5cm}(\\mbox{method } 3.3)\\\\\n",
        "\\partial_{t} w_{2}+\\mathcal{A}_{S}^{b s} w_{2}+ h \\max \\left( \\alpha f \\sigma S\\left|\\Delta_{b s}\\right|, w_{2}\\right)-(r+h) w_{2}=0 \\text { on }[0, T) \\times (0,\\infty) \\hspace{0.5cm}(\\mbox{method } 4.1)\n",
        "\\end{array}\\right.\n",
        "\\end{equation}"
      ]
    },
    {
      "cell_type": "markdown",
      "metadata": {
        "id": "ypNEbTViMYud",
        "colab_type": "text"
      },
      "source": [
        "# 3   Numerical schemes\n",
        "\n",
        "In this section, we will describe the numerical pricing scheme for each couple $(v,w)$ with the corresponding methods detailed as below."
      ]
    },
    {
      "cell_type": "markdown",
      "metadata": {
        "id": "jIPAYzwV8ugU",
        "colab_type": "text"
      },
      "source": [
        "## 3.1 First couple $(v_1,w)$\n",
        "\n",
        "To simplify the notation, we write $v$ for $v_1$ in this section."
      ]
    },
    {
      "cell_type": "markdown",
      "metadata": {
        "id": "U0gXZlW0MhkB",
        "colab_type": "text"
      },
      "source": [
        "### 3.1.1 Polynomial Regression for $v_1$ (parametric regression with inverse matrix solution for $L_2$ loss)\n",
        "\n",
        "In order to apply the regression on the pricing procedure, we firstly write the discretization of $v$ on a regular time grid $t^i$ and on a mesh $S_k$, where $i$ and $k$ index the time steps and the trajectories, for $i = 0,\\dots, N$, such that $t_i = \\frac{i}{N}T$ and $k = 1, \\dots, K = \\text{number of simulations}$. In addition, let $c$ denote the nonlinear term in $v$:\n",
        "$$\n",
        "c = \\lambda\\left(\\alpha f \\sigma S\\left|\\partial_{S} v_{1} +\\Delta_{b s}\\right|+v_{1} -u_{b s}\\right)^{-}\n",
        "$$\n",
        "\n",
        "We deduct the stochastic pricing scheme:\n",
        "$$\n",
        "v_{i}^{k}=\\underbrace{\\frac{1}{1+\\Delta_t  r_i^k}}_{e^{-\\Delta_t r_i^k}} \\mathbb{E}[\\underbrace{v_{i+1}+ \\Delta_t c_{i+1}}_{y_{i+1}} | S^{k}_{i}] = e^{-\\Delta_t r^k_i} \\mathbb{E}[y_{i+1} | S_i^k] = e^{-\\Delta_t r_i^k}f_i(S_i^k)  \\hspace{1cm} \\mbox{for } i = N-1, \\dots, 1\n",
        "$$\n",
        "\n",
        "Where $f_{i=1,\\dots,N-1}$ are some Borel functions referring to the regressors at each time step that will be independently trained in order to approximate the conditional expectation of the nonlinear term. In fact, we do not need to (and cannot) do regression at $i = 0$ because of the constant $S_0$ and mathematically because of the expectation without condition at $i = 0$ , so $v_0$ will be aggregated from the values at step $i=1$ by the mean as following. Moreover, the update of $(c_{i}^k)_{i = N, \\dots, 1}$ follows the instructions:\n",
        "\n",
        "+ At the maturity, $\\partial_{S} v_N^k = v_N^k = w_N^k = 0$, while $(u_{bs})_N^k$ is payoff at the maturity for scenario $k$ and $(\\Delta_{bs})^k_N =\\sum_n \\omega_n 1_{T_n=t_N} 1_{S^k_N \\geq K_n}$\n",
        "+ For $i = 1, \\dots, N-1$, these series $u_{bs},\\Delta_{bs}$ and $\\partial_S v$ are calculated recursively by other sequences of regression:\n",
        "\n",
        "\\begin{align}\n",
        "(u_{bs})_i^k &= e^{-\\Delta_t r_i^k} \\mathbb{E}[(u_{bs})_{i+1} | S_i^k] + \\sum_{n}\\mathbb{1}_{t_{i} = T_n}\\omega_n\\phi_n(S^k_i,t_{i})= e^{-\\Delta_t r_i^k} f^1_i(S_i^k) + \\sum_{n}\\mathbb{1}_{t_{i} = T_n}\\omega_n\\phi_n(S^k_i,t_{i})\\\\\n",
        "(\\Delta_{bs})_i^k &= \\frac{\\mathbb{E} \\left[ (u_{bs})_{i+1}\\left(W_{i+1}-W_{i}\\right) | S_i^k\\right] }{\\sigma S^{i}_{k} \\Delta_t}  = \\frac{f^2_i(S_i^k)}{\\sigma S_{i}^{k} \\Delta_t}\\\\\n",
        "\\partial_S v_i^k &= \\frac{\\mathbb{E} \\left[v_{i+1}\\left(W_{i+1}-W_{i}\\right) | S_i^k\\right] }{\\sigma S^{k}_{i} \\Delta_t}  = \\frac{f^3_i(S_i^k)}{\\sigma S_{i}^{k} \\Delta_t}\n",
        "\\end{align}\n",
        "\n",
        "where $f_i, f^1_i, f^2_i$ and $f^3_i$ are 4 independent polynomial regression sequences that will be calibrated by the inverse matrix of $L_2$ loss. For example, we want to regress $Y$ against $S$, we firstly transform $S$ to a polynomial matrix $X = [1 \\hspace{0.3cm} S \\dots S^m]$. A polynomial regressor $f$ taking $W$ as the weight matrix can be expressed as below:\n",
        "$$ \\mathbb{E}[Y|S] = f(S) = XW $$\n",
        "The solution of $W$ by inverse matrix: $W = (X^TX)^{-1}X^TY$.\n",
        "\n",
        "Finally, we deduct the initial FVA\n",
        "$$ \n",
        "v_0 = \\frac{1}{K}\\sum_{k=1}^{K} e^{-\\Delta_t r_0^k}(v_1^k + \\Delta_t c_1^k)\n",
        "$$"
      ]
    },
    {
      "cell_type": "markdown",
      "metadata": {
        "id": "XWAIBXIV8zuW",
        "colab_type": "text"
      },
      "source": [
        "### 3.1.2 Cox-Ross-Rubinstein tree for $w$\n",
        "\n",
        "Now, we describe the pricing scheme for $w$ using Cox-Rox-Rubinstein tree. According to this model, there are two possible values of the underlying $S$ at the next stage: Up and Down with the multipliers  $U, D$ respectively. As a consequence, CRR tree will have $i+1$ possible underlying values at $t_i$. The probability of each stage and CRR parameters as following:\n",
        "\n",
        "\\begin{equation}\n",
        "\\begin{aligned}\n",
        "&U=e^{\\sigma \\sqrt{\\Delta_t}}\n",
        "&p_{u}=\\frac{e^{r \\Delta_t}-D}{U - D}\\\\\n",
        "&D=e^{- \\sigma \\sqrt{\\Delta_t}}\n",
        "&p_{D}= 1 - P_U\n",
        "\\end{aligned}\n",
        "\\end{equation}\n",
        "\n",
        "We denote $(.)^{(k)}_i$ the value of the underlying at time $t_i$ and state $k$. The parenthesis of $k$ are to distinguish with the mesh simulation in the pricing of $v$.\n",
        "\n",
        "Applying Cox-Ross-Rubinstein tree probabilities for Black-Scholes generator, we have:\n",
        "\\begin{align}\n",
        "(1 + (r + h) \\Delta_t) w_i^{(k)} =& \\underbrace{P_U w_{i+1}(U S_i^{(k)}) + P_D w_{i+1}(D S_i^{(k)})}_{w\\_part^{(k)}_{i+1}} +\\\\\n",
        "&\\Delta_t h \\max \\Big( \\underbrace{\\frac{\\alpha f \\sigma}{U - D} \\Big|v_{i+1}(U S_i^{(k)}) - v_{i+1}(D S_i^{(k)}) + (u_{bs})_{i+1}(U S_i^{(k)}) - (u_{bs})_{i+1}(D S_i^{(k)}) \\Big|}_{d^{(k)}_{i}}, w_i^{(k)} \\Big).\n",
        "\\end{align}\n",
        "\n",
        "Note $\\beta^{(r+h)} = \\frac{1}{1 + (r + h) \\Delta_t}$, the solution of the above pricing formula takes 2 possible values with the following conditions:\n",
        "\n",
        "\\begin{equation}\n",
        "\\left\\lbrace\n",
        "  \\begin{aligned}\n",
        "      &w_i^{(k)} = \\frac{\\beta^{(r+h)} w\\_part^{(k)}_{i+1}}{1 - \\beta^{(r+h)}h\\Delta t} \\hspace{3.cm} \\mbox{if} \\hspace{0.3cm} d^{(k)}_{i} < \\frac{\\beta^{(r+h)} w\\_part^{(k)}_{i+1}}{1 - \\beta^{(r+h)}h\\Delta_t}\\\\\n",
        "    &w_i^{(k)} = \\beta^{(r+h)} \\Big[ w\\_part^{(k)}_{i+1} + \\Delta_t h d^{(k)}_{i} \\Big] \\hspace{0.3cm} \\mbox{otherwise}\\\\\n",
        "  \\end{aligned}\n",
        "\\right.\n",
        "\\end{equation}\n",
        "\n",
        "In this schema, the term $u_{bs}$ will be updated by tree probabilites while the term $v$ will be estimated by the regressor in the pricing of $v$, for example $v_{i+1}(U S_i^{(k)}) = f_{i+1}(U S_i^{(k)})$."
      ]
    },
    {
      "cell_type": "markdown",
      "metadata": {
        "id": "BHHpycHZ87NZ",
        "colab_type": "text"
      },
      "source": [
        "## 3.2 Second couple ($v_1$, $w_2$)\n",
        "\n",
        "For the sake of simplification, we write $v$ for $v1$ and $w$ for $w2$ in this section."
      ]
    },
    {
      "cell_type": "markdown",
      "metadata": {
        "id": "pD7pyk9-Kr3u",
        "colab_type": "text"
      },
      "source": [
        "\n",
        "\n",
        "### 3.2.1 Regression by numerical minimization of the $L_2$ error for $v_1$ (Gradient descent)\n",
        "In this part, we use the same scheme of calculation as in section 3.1.1. However, instead of using inverse matrix, we will adopt the gradient descent (a numerical optimization method) to solve the regressor $f$. The gradient descent practically requires hundreds of update steps for the convergence, but when the input matrix $X$ has a high dimension, the gradient descent algorithm may be faster than the inverse matrix solution. Moreover, in the case that the input $X$ is not a full rank matrix or its determinant is close to 0 (high correlated inputs), the inverse matrix solution well be not accessible or returns a worse result than the gradient descent algorithm. We recognize that the the optimization problem have to be solved for each time step, that leads to a huge computation! \n",
        "\n",
        "For purposes of reducing the computation time, we introduce now the optimal stochastic learning rate here.\n",
        "\n",
        "Considering an empirical quadratic loss for an input matrix ${X}$ (including a 1-column) taking the weight matrix $A$ as parameter:\n",
        "$$\\mathcal{L}(A) =  \\frac{1}{n} \\left( {X}A - y \\right)^T \\left( {X}A  - y \\right)$$\n",
        "\n",
        "The goal is to minimize the loss $\\mathcal{L}$. Since $1/n$ is a constant, we can omit it:\n",
        "\n",
        "$$\\mathcal{L}(A) = A^T(X^TX)A + y^Ty - 2y^TXA$$\n",
        "\n",
        "Suppose a positive real learning rate $\\lambda$. The gradient descent with constant $\\lambda$ is an iterative algorithm that aims to find a local minimum for $\\mathcal{L}$ (also global minimum if $(XA+b)^{T}(XA+b)$ is positive definite). The updates:\n",
        "$$A^{k+1} = A^{k} - \\lambda \\underbrace{\\partial_A \\mathcal{L}(A^{k}, b^{k})}_{\\partial_A\\mathcal{L}^{k}}$$\n",
        "\n",
        "In the case of stochastic learning rate, we rewrite the updates at step $k$ with $\\lambda^k$ . The optimal learning rate at the $k$th step could be:\n",
        "$$\\lambda^{k} = \\arg \\min \\mathcal{L}(A^{k+1})$$\n",
        "\n",
        "Finally, the resulting optimal learning rate at step $k$ we obtain is\n",
        "\n",
        "$$\\lambda^k = \\frac{\\left[X\\partial_A\\mathcal{L}^k \\right]^T\\left[XA^k-y\\right]}{[X\\partial_A \\mathcal{L}^k]^T[X\\partial_A \\mathcal{L}^k]}$$\n",
        "\n",
        "By using this optimal stochastic learning rate, the GD algorithm can pratically converge after 5-10 iteractions"
      ]
    },
    {
      "cell_type": "markdown",
      "metadata": {
        "id": "9pQcQyAJ9BTB",
        "colab_type": "text"
      },
      "source": [
        "### 3.2.2 Deep learning forward target scheme for $w_2$\n",
        "\n",
        "We start with the same notation for the time grid $t^i$ and the simulation mesh $S_k$ as in section 3.1.1.\n",
        "\n",
        "By doing so, we can deduce the following result from the discretization of KVA's PDE formula as follow:\n",
        "\n",
        "$$w_{i+1}^k = w_i^k - \\Delta_t ~ r ~ S_i^k \\Big({\\partial _S w} \\Big)_i^k - \\Delta_t \\frac{\\sigma^2}{2} (S_i^k)^2 \\Big({\\partial^{2} _{S} w} \\Big)_i^k - \\Delta_t ~ h ~ max(\\alpha f \\sigma S_i^k |(\\Delta_{bs})_i^k|, w_i^k) + (r+h) ~ \\Delta_t ~ w_i^k$$\n",
        "\n",
        "The calculation is implemented by the forward iteraction from $i=0$ to $N-1$. The ideal of this method is that we suppose an intial $w_0$, we use the above update for defining $w^k_T$. On the other hand, we have $w^k_T$  must be null, we so apply the back propagation to find $w_0$.\n",
        "\n",
        "The calculation of $w$ cannot be done without recalling the forward update for $u_{bs}$ which has to be simultaneously realized:\n",
        "$$(u_{bs})^k_{i+1} = (1+r\\Delta_t) (u_{bs})_i^k - \\Delta_t r S_i^k  (\\Delta_{bs})_i^k - \\Delta_t \\frac{\\sigma^2}{2} (S_i^k)^2 (\\partial^2_{S^2} u_{bs})_i^k -\\sum_{n}\\mathbb{1}_{t_{i} = T_n}\\omega_n\\phi_n(S^k_i,t_{i})$$\n",
        "\n",
        "Now, we want to approximate $2$ sequences for the numerical scheme of $w$: \n",
        "\n",
        "$$({\\partial_S w})_i^k = f_i^1(S_i^k)$$\n",
        "\n",
        "$$(\\Delta_{bs})_i^k = f_i^2(S_i^k)$$\n",
        "\n",
        "\n",
        "Where $f_i^1$ and $f_i^2$ are some Borel functions for $i \\in \\{ 0, \\dots, N \\}$.\n",
        "To overcome this problem, we parameterize $f_i$ by using Neural Network and assumption that $f_1 = \\dots = f_N$. Lastly, the initial derivatives could be also parameterized in the networks.\n",
        "\n",
        "Directly after [E, Han, and Jentzen\n",
        "(2017)](https://arxiv.org/pdf/1706.04702.pdf), we admit the following approximation for the second order derivative in the framework of Monte Carlo (that is also used in the same way for $\\partial^2_{S^2} w$)\n",
        "\n",
        "$$\\frac{1}{2}\\sigma^2 (S^k_i)^2\\partial^2_{S^2}w^k_i \\simeq - \\frac{1}{2}\\sigma^2 (S^k_i)^2\\frac{(\\partial _S w)_i^k ~ (W^k_{i+1}-W^k_{i})}{\\Delta_t} \\simeq - \\frac{(\\partial _S w)_i^k  ~ (S^k_{i+1}-S^k_{i})}{\\Delta_t}$$\n",
        "\n",
        "Here, there are several ways to define the network and the loss functions for our issue, e.g.\n",
        "\n",
        "\n",
        "1. Training two neutral networks (if they have same structure, it is equivalent to a singal network of 2-D output) with a total loss: $\\mathbb{E}\\left[ \\Vert (u_{bs})_T - Z \\Vert^2_2 + \\Vert (w)_T \\Vert^2_2 \\right]$, with $Z$, the payoff at the maturity of the portfolio.\n",
        "\n",
        "2. Training separetly two two losses (two components of the above loss). This method may exist again two versions: (1) two gradient steps corresponding these losses are done at each iteraction, (2) the first loss is thoroughly optimized, then the second one.\n",
        "\n",
        "The second version of method 2 exists and intuitively gives us the best performance because $u_{bs}$ does not depend on $w$. Hence, we firstly find the best estimation of $u_{bs}$ (with its derivative), then use it to train $w$.\n",
        "Thereafter, this approach is considered in our work."
      ]
    },
    {
      "cell_type": "markdown",
      "metadata": {
        "id": "2WjuaOe-8wYo",
        "colab_type": "text"
      },
      "source": [
        "#4  Programming and validation\n",
        "\n",
        "In this part we make a brief description of the code which will allow us to compute the couples and establish the validations via the numerical results of the article."
      ]
    },
    {
      "cell_type": "markdown",
      "metadata": {
        "id": "8y0BFNsY9ppm",
        "colab_type": "text"
      },
      "source": [
        "Import some useful packages"
      ]
    },
    {
      "cell_type": "code",
      "metadata": {
        "id": "T-EuZNO9K3FT",
        "colab_type": "code",
        "outputId": "2c7cc8bd-7c7e-446b-c6c0-5e3e483ad554",
        "colab": {
          "base_uri": "https://localhost:8080/",
          "height": 35
        }
      },
      "source": [
        "%tensorflow_version 1.x\n",
        "import matplotlib.pyplot as plt\n",
        "\n",
        "%matplotlib inline\n",
        "import numpy as np\n",
        "import time\n",
        "import timeit\n",
        "import scipy as si\n",
        "from scipy.stats import norm\n",
        "import pandas as pd\n",
        "import tensorflow as tf"
      ],
      "execution_count": 1,
      "outputs": [
        {
          "output_type": "stream",
          "text": [
            "TensorFlow 1.x selected.\n"
          ],
          "name": "stdout"
        }
      ]
    },
    {
      "cell_type": "markdown",
      "metadata": {
        "id": "kD1a14xW96p0",
        "colab_type": "text"
      },
      "source": [
        "Model parameters. Slightly different from the article, we do not have quantile level $f$. However, with the information that the KVA for mis-hedge $\\alpha =1 $ is equalt to $30\\%$ of the BS price of the portfolio, we will definte a (squared) loss function to find out $f$"
      ]
    },
    {
      "cell_type": "code",
      "metadata": {
        "id": "eWeZ3VDqNCuw",
        "colab_type": "code",
        "colab": {}
      },
      "source": [
        "### Setup\n",
        "S0 = 100\n",
        "r = 0.02  # Risk free rate\n",
        "q = 0  #\n",
        "sigma = 0.2  # Volatility\n",
        "h = 0.1\n",
        "lamb = 0.02\n",
        "\n",
        "omega = np.array([3., 2., -2., 1., -1.])  # Vector of option's quantities\n",
        "K = np.array([110., 115., 120., 125., 130.])  # Vector of the portfolio's strikes\n",
        "T = np.array([1., 2., 3., 4., 5.],dtype= float)  # Vector of the portfolio's strikes\n",
        "\n",
        "alpha = np.linspace(0., 1., 11)\n",
        "\n",
        "### \n",
        "nb_step = 12*5 # it must be a multiple of 5\n",
        "time_step = T[-1] / nb_step\n",
        "nb_path = 20000  # NUmber of paths"
      ],
      "execution_count": 0,
      "outputs": []
    },
    {
      "cell_type": "markdown",
      "metadata": {
        "id": "znX4Pkm9-Yhi",
        "colab_type": "text"
      },
      "source": [
        "###4.1 Path Simulator\n",
        "\n",
        "Here we describe the simulation of the stock $S$ over the life time of the portfolio."
      ]
    },
    {
      "cell_type": "code",
      "metadata": {
        "id": "r9yNiAdXPwCv",
        "colab_type": "code",
        "colab": {}
      },
      "source": [
        "class path_generator :\n",
        "\n",
        "    def __init__(self, S0 = S0, T = 5., r = r, q = q, sigma = sigma, nb_step = nb_step):\n",
        "        self.S0 = S0,\n",
        "        self.T = T\n",
        "        self.b = r-q\n",
        "        self.sigma = sigma\n",
        "        self.nb_step = nb_step\n",
        "        self.time_step = T/nb_step\n",
        "        self.time_path = np.linspace(0., T, self.nb_step+1, dtype=np.float64)\n",
        "        \n",
        "    def path_generate(self, nb_simulation = nb_path, random_seed = None) :\n",
        "\n",
        "        tf.reset_default_graph()\n",
        "\n",
        "        W_path = tf.math.cumsum(\n",
        "            tf.concat([tf.zeros([nb_simulation,1], tf.float64),\n",
        "                       tf.sqrt(tf.constant(self.time_step, tf.float64))*tf.random.normal([nb_simulation, self.nb_step], dtype=tf.float64, seed = random_seed)],axis = 1)\n",
        "            , axis = 1)\n",
        "        \n",
        "        S_path = self.S0 * tf.exp((self.b- self.sigma**2/2 )*self.time_path +\n",
        "                                       self.sigma *W_path)\n",
        "        with tf.Session() as sess:\n",
        "            self.W_path = sess.run(W_path)\n",
        "            self.S_path = sess.run(S_path,{W_path:self.W_path})"
      ],
      "execution_count": 0,
      "outputs": []
    },
    {
      "cell_type": "markdown",
      "metadata": {
        "id": "ol0WXjVGAPaM",
        "colab_type": "text"
      },
      "source": [
        "Let's verify this simulator\n",
        "\n"
      ]
    },
    {
      "cell_type": "code",
      "metadata": {
        "id": "IFoWdmypQYtd",
        "colab_type": "code",
        "outputId": "af43b069-9cf3-4f6a-d8fe-ffd03185784d",
        "colab": {
          "base_uri": "https://localhost:8080/",
          "height": 350
        }
      },
      "source": [
        "test = path_generator(nb_step = nb_step)\n",
        "test.path_generate(100)\n",
        "\n",
        "plt.figure(figsize=(8,5))\n",
        "plt.plot(test.time_path,np.transpose(test.S_path[:,0:100]))\n",
        "plt.title('Simulated Path')\n",
        "plt.ylabel('Price')\n",
        "plt.xlabel('TimeStep') \n",
        "plt.show()"
      ],
      "execution_count": 4,
      "outputs": [
        {
          "output_type": "display_data",
          "data": {
            "image/png": "[encoded data removed]",
            "text/plain": [
              "<Figure size 576x360 with 1 Axes>"
            ]
          },
          "metadata": {
            "tags": [],
            "needs_background": "light"
          }
        }
      ]
    },
    {
      "cell_type": "markdown",
      "metadata": {
        "id": "66X69mjvQn5B",
        "colab_type": "text"
      },
      "source": [
        "It seems to be working\n",
        "\n",
        "Black-Scholes price of the portfolio"
      ]
    },
    {
      "cell_type": "code",
      "metadata": {
        "id": "2k2PSVKDRcDS",
        "colab_type": "code",
        "colab": {}
      },
      "source": [
        "def portfolio_BSprice(K = K, omega = omega, T = T, sigma = sigma, r = r, q = q,  S0 = S0):\n",
        "    b = r-q\n",
        "    vol = sigma*np.sqrt(T)\n",
        "    d1 = (np.log(S0/K) + (b + sigma**2/2)*T)/vol \n",
        "    d2 = d1 - vol\n",
        "    return (omega * (S0 * norm.cdf(d1) - K * np.exp(- r*T) * norm.cdf(d2))).sum()"
      ],
      "execution_count": 0,
      "outputs": []
    },
    {
      "cell_type": "code",
      "metadata": {
        "id": "_QLqR4fpRnjX",
        "colab_type": "code",
        "outputId": "6fa51463-26f2-4d9d-a88a-a71ecd91cc09",
        "colab": {
          "base_uri": "https://localhost:8080/",
          "height": 35
        }
      },
      "source": [
        "# test\n",
        "portfolio_BSprice()"
      ],
      "execution_count": 6,
      "outputs": [
        {
          "output_type": "execute_result",
          "data": {
            "text/plain": [
              "10.165504176502026"
            ]
          },
          "metadata": {
            "tags": []
          },
          "execution_count": 6
        }
      ]
    },
    {
      "cell_type": "markdown",
      "metadata": {
        "id": "Y6Qsk3_FRZvq",
        "colab_type": "text"
      },
      "source": [
        "## 4.2 First couple $(v_1, w)$\n",
        "\n",
        "\n",
        "The first function `poly_creator` creates polynomial matrix and `Tree_trans` allows us to perform backward update for the tree model"
      ]
    },
    {
      "cell_type": "code",
      "metadata": {
        "id": "JCh2CtX1ULw2",
        "colab_type": "code",
        "colab": {}
      },
      "source": [
        "def poly_creator(X, degree_poly) :\n",
        "    # [1 X X^2 X^3 ...]\n",
        "    X_matrix = tf.reshape(tf.pow(X,0), (-1,1))\n",
        "    for i in range(1, degree_poly+1):\n",
        "        X_matrix = tf.concat([X_matrix, tf.reshape(tf.pow(X,i), (-1,1))], axis = 1)\n",
        "    return X_matrix \n",
        "\n",
        "def Tree_trans(previousIterValues , kernel):\n",
        "    # Reshape kernel\n",
        "    kernel = tf.reshape(kernel, [2,1,1])\n",
        "    # Reshape values to transfrom an array a tensor of rank 2 of shape (1,NValues,1)\n",
        "    previousValue = tf.reshape(previousIterValues, [1,-1,1])\n",
        "    # Apply one dimensional convolution (tf.nn.conv1d) and flatten the array\n",
        "    nextValue = tf.reshape(tf.nn.conv1d(previousValue, kernel, [1,1,1], 'VALID', name = \"Transition\"),[-1])\n",
        "\n",
        "    return nextValue"
      ],
      "execution_count": 0,
      "outputs": []
    },
    {
      "cell_type": "markdown",
      "metadata": {
        "id": "DDSU84cWQnux",
        "colab_type": "text"
      },
      "source": [
        "We now define a tensorflow graph generator. For the first couple, we have to define a big graph that do the backward update for $v_1$ and $w$ in parallel because of  the interaction of these two metrics. The key function which allow us to estimate quickly the polynomial regressors (by inverse matrix) is ```tf.linalg.lstsq```.\n",
        "\n"
      ]
    },
    {
      "cell_type": "code",
      "metadata": {
        "id": "GbUzI5gklrul",
        "colab_type": "code",
        "colab": {}
      },
      "source": [
        "def first_couple_graph_generator(degree_poly = 5, nb_step = nb_step, nb_call = len(T)) :\n",
        "    g = tf.Graph()\n",
        "    with g.as_default():\n",
        "        \n",
        "        alpha = tf.placeholder(tf.float64, shape = tuple(), name = 'alpha')\n",
        "        lamb = tf.placeholder(tf.float64, shape = tuple(), name = 'lamb')\n",
        "        sigma = tf.placeholder(tf.float64, shape = tuple(), name = 'sigma')\n",
        "        r = tf.placeholder(tf.float64, shape = tuple(), name = 'r')\n",
        "        h = tf.placeholder(tf.float64, shape = tuple(), name = 'h')\n",
        "\n",
        "        T = tf.placeholder(tf.float64, name = 'T')\n",
        "        omega = tf.placeholder(tf.float64,  name = 'omega')\n",
        "        K = tf.placeholder(tf.float64, name = 'K')\n",
        "        ubs_0 = tf.placeholder(tf.float64, shape = tuple(), name = 'ubs_0')\n",
        "        \n",
        "        time_path = tf.placeholder(tf.float64, name = 'time_path')\n",
        "        time_step = T[-1] / nb_step\n",
        "        beta = 1/(1+r*time_step)\n",
        "\n",
        "        # f could be a variable\n",
        "        f = tf.get_variable('f', dtype=tf.float64,\n",
        "                            initializer=tf.constant(1.2, dtype= tf.float64))\n",
        "        \n",
        "        ########## Setup for v1 ##########\n",
        "        S_path = tf.placeholder(tf.float64, shape = (None, nb_step+1), name = 'S_path')\n",
        "        W_path = tf.placeholder(tf.float64, shape = (None, nb_step+1), name = 'W_path')\n",
        "        S0 = S_path[0,0]\n",
        "        \n",
        "        # Some calculations at the maturity that can be directly realized\n",
        "        ubs = tf.zeros_like(S_path[:,-1:])\n",
        "        delta_bs = tf.zeros_like(ubs)\n",
        "        for n in range(nb_call) :\n",
        "            ubs += tf.cast(tf.equal(T[n], time_path[-1]), tf.float64)*omega[n] * tf.maximum(S_path[:,-1:] - K[n], 0.)               \n",
        "            delta_bs += tf.cast(tf.equal(T[n], time_path[-1]), tf.float64)*omega[n]*tf.cast(S_path[:,-1:] >= K[n], tf.float64)\n",
        "        \n",
        "        v = tf.zeros_like(S_path[:,-1:], tf.float64)\n",
        "        delta_v = tf.zeros_like(S_path[:,-1:], tf.float64)\n",
        "        c = lamb* tf.maximum(-alpha*f*sigma*S_path[:,-1:]*tf.abs(delta_v + delta_bs) - v + ubs ,0)\n",
        "\n",
        "        ########## Setup for w ##########\n",
        "        \n",
        "        space_step_tree = sigma * tf.sqrt(time_step)\n",
        "        Up = tf.exp(space_step_tree)\n",
        "        Down = tf.exp(-space_step_tree)\n",
        "        beta_rh = 1/(1+(r+h)*time_step)\n",
        "        # 2 probabilities\n",
        "        pUp = (tf.exp(r*time_step)-Down)/(Up - Down)\n",
        "        pDown = 1- pUp\n",
        "\n",
        "        # w = 0, v_tree = 0 at the maturity\n",
        "        w = tf.zeros((nb_step+1), dtype = tf.float64)\n",
        "        v_tree = tf.zeros((nb_step+1), dtype = tf.float64)\n",
        "        # S_path by tree model at the maturity\n",
        "        S_path_tree = S_path[0,0]* tf.exp(space_step_tree * tf.linspace(-tf.cast(nb_step,tf.float64), tf.cast(nb_step,tf.float64), num=nb_step + 1))\n",
        "\n",
        "        # ubs_tree at the maturity\n",
        "        ubs_tree = tf.zeros_like(S_path_tree)\n",
        "        for n in range(nb_call) :\n",
        "            ubs_tree += tf.cast(tf.equal(T[n], time_path[-1]), tf.float64)*omega[n] * tf.maximum(S_path_tree - K[n], 0.) \n",
        "\n",
        "        # Use convolution layer to update w, ubs_tree, ...\n",
        "        kernel_p = tf.stack([pDown, pUp], axis = 0)\n",
        "        kernel_minus_plus = tf.constant([-1., 1.], dtype = tf.float64)\n",
        "   \n",
        "        ########## Backward for v1 and w at the same time ##########\n",
        "        for i in range(nb_step-1, 0, -1) :\n",
        "\n",
        "            ##### Update v1 #####\n",
        "            X = poly_creator(S_path[:,i:(i+1)], degree_poly) # (None, 6) matrix (with bias)\n",
        "            # Regressor delta_v : S -> poly_creator(S) -> v*(W - W_)\n",
        "            Y = v*(W_path[:,(i+1):(i+2)] - W_path[:,i:(i+1)])\n",
        "            W_delta_v = tf.linalg.lstsq(X, Y)\n",
        "            delta_v = tf.matmul(X, W_delta_v)/ (sigma*time_step*S_path[:,i:(i+1)])\n",
        "\n",
        "            # Regressor v from next step : S -> poly_creator(S) -> v + delta_time*c \n",
        "            Y = v + time_step*c            \n",
        "            W_v = tf.linalg.lstsq(X, Y)\n",
        "            v = beta*tf.matmul(X, W_v)\n",
        "            \n",
        "            # Regressor delta_bs : S -> poly_creator(S) -> ubs*(W - W_)\n",
        "            Y = ubs*(W_path[:,(i+1):(i+2)] - W_path[:,i:(i+1)])\n",
        "            W_delta_bs = tf.linalg.lstsq(X, Y)\n",
        "            delta_bs = tf.matmul(X, W_delta_bs)/ (sigma*time_step*S_path[:,i:(i+1)])\n",
        "\n",
        "            # Regressor ubs : S -> poly_creator(S) -> ubs\n",
        "            Y = ubs\n",
        "            W_ubs = tf.linalg.lstsq(X, Y)\n",
        "            ubs = beta*tf.matmul(X, W_ubs)\n",
        "            for n in range(nb_call) :\n",
        "                ubs += tf.cast(tf.equal(T[n], time_path[i]), tf.float64)*omega[n] * tf.maximum(S_path[:,i:(i+1)] - K[n], 0.) \n",
        "\n",
        "            # Update c\n",
        "            c = lamb * tf.maximum(-alpha*f*sigma*S_path[:,i:(i+1)]*tf.abs(delta_v + delta_bs) - v + ubs,0)\n",
        "\n",
        "            ##### Update w #####\n",
        "            # Update w\n",
        "            w_part = Tree_trans(w, kernel_p) \n",
        "            first_max_part = alpha*f*sigma*tf.abs(1/(Up-Down)*\n",
        "                                    (Tree_trans(v_tree, kernel_minus_plus) + Tree_trans(ubs_tree, kernel_minus_plus)))\n",
        "            w = beta_rh*((w_part + h*time_step*first_max_part)*tf.cast(first_max_part >= beta_rh/(1-beta_rh*h*time_step)*w_part, tf.float64)+\n",
        "                         w_part/(1-beta_rh*h*time_step)*tf.cast(first_max_part < beta_rh/(1-beta_rh*h*time_step)*w_part, tf.float64))\n",
        "             \n",
        "            # Update S_path for tree\n",
        "            S_path_tree = S0* tf.exp(space_step_tree * np.linspace(-i, i, num=i + 1))\n",
        "\n",
        "            # Update ubs_tree by tree proba, attention to new payoff\n",
        "            ubs_tree = beta*Tree_trans(ubs_tree, kernel_p)\n",
        "            # check whether T_i is the maturity of some calls, if yes, add their payoff into ubs_tree\n",
        "            for n in range(nb_call) :\n",
        "                ubs_tree += tf.cast(tf.equal(T[n], time_path[i]), tf.float64)*omega[n] * tf.maximum(S_path_tree - K[n], 0.)\n",
        "            \n",
        "            # Update v_tree by S_path_tree and the corresponding regressors in the calcul of v\n",
        "            X = poly_creator(tf.reshape(S_path_tree,[-1,1]), degree_poly)\n",
        "            v_tree = tf.reshape(beta*tf.matmul(X,W_v),[-1])\n",
        "\n",
        "        # Calculate v_0 by taking the mean of the discounted v_1 + delta_t*c_1\n",
        "        v = tf.reduce_mean(beta*(v + time_step*c), name = 'v_0')\n",
        "\n",
        "        # Calculate w_0 one more time by the tree update\n",
        "        w_part = Tree_trans(w, kernel_p)\n",
        "        first_max_part = alpha*f*sigma*tf.abs(1/(Up-Down)*\n",
        "                                    (Tree_trans(v_tree, kernel_minus_plus) + Tree_trans(ubs_tree, kernel_minus_plus)))\n",
        "        w = beta_rh*((w_part + h*time_step*first_max_part)*tf.cast(first_max_part >= beta_rh/(1-beta_rh*h*time_step)*w_part, tf.float64)+\n",
        "                      w_part/(1-beta_rh*h*time_step)*tf.cast(first_max_part < beta_rh/(1-beta_rh*h*time_step)*w_part, tf.float64))\n",
        "        \n",
        "        w = tf.reduce_mean(w, name= 'w_0')\n",
        "        # Define a loss for finding f\n",
        "        loss_f = tf.identity(tf.square(w - 0.3*ubs_0), 'loss_f')\n",
        "        gradient_step = tf.train.AdamOptimizer(0.1).minimize(loss_f, var_list = f, name='gradient_step')\n",
        "\n",
        "    return g"
      ],
      "execution_count": 0,
      "outputs": []
    },
    {
      "cell_type": "markdown",
      "metadata": {
        "id": "eoO2OBAuXb1m",
        "colab_type": "text"
      },
      "source": [
        "First couple calculator by the execution of the graph. The following function runs the computation with a putted $f$. In the case $f=$None, it will do gradient descent optimization to determine the fitted f such that the KVA is of the order of 30% of the BS price."
      ]
    },
    {
      "cell_type": "code",
      "metadata": {
        "id": "wyWvwokzMERF",
        "colab_type": "code",
        "colab": {}
      },
      "source": [
        "def first_couple_calculator(g, S0 = S0, r = r, q = q, sigma = sigma,\n",
        "                            omega = omega, K = K, T = T, \n",
        "                            alpha = 1.0, h = h, lamb = lamb, f = None,\n",
        "                            nb_step = nb_step, nb_path = nb_path,\n",
        "                            eps = 10e-8, max_iter = 100, verbose = 10):\n",
        "    # Sort calls by maturity\n",
        "    ind = T.argsort()\n",
        "    T = T[ind]\n",
        "    omega = omega[ind]\n",
        "    K = K[ind]\n",
        "\n",
        "    # placeholder\n",
        "    alpha_ = g.get_tensor_by_name('alpha:0')\n",
        "    lamb_ = g.get_tensor_by_name('lamb:0')\n",
        "    sigma_ = g.get_tensor_by_name('sigma:0')\n",
        "    r_ = g.get_tensor_by_name('r:0')\n",
        "    h_ = g.get_tensor_by_name('h:0')\n",
        "\n",
        "    T_ = g.get_tensor_by_name('T:0')\n",
        "    omega_ = g.get_tensor_by_name('omega:0')\n",
        "    K_ = g.get_tensor_by_name('K:0')\n",
        "    ubs_0_ = g.get_tensor_by_name('ubs_0:0')\n",
        "\n",
        "    time_path_ = g.get_tensor_by_name('time_path:0')\n",
        "    S_path_ = g.get_tensor_by_name('S_path:0')\n",
        "    W_path_ = g.get_tensor_by_name('W_path:0')\n",
        "        \n",
        "    # gradient\n",
        "    f_ = g.get_tensor_by_name('f:0')\n",
        "    gradient_step = g.get_operation_by_name('gradient_step')\n",
        "    loss_f = g.get_tensor_by_name('loss_f:0')\n",
        "\n",
        "    # output\n",
        "    v0 = g.get_tensor_by_name('v_0:0')\n",
        "    w0 = g.get_tensor_by_name('w_0:0')\n",
        "    \n",
        "    # generate paths\n",
        "    generator = path_generator(S0 = S0, T = T.max(), r = r, q = q, \n",
        "                               sigma = sigma, nb_step = nb_step)\n",
        "    generator.path_generate(nb_path)\n",
        "\n",
        "    feed_dict = {k:v for k,v in zip([alpha_, lamb_, sigma_, r_, h_, T_, omega_, K_, ubs_0_, \n",
        "                                     time_path_, S_path_, W_path_],\n",
        "                                    [alpha, lamb, sigma, r, h, T, omega, K, portfolio_BSprice(K = K, omega = omega, T = T, sigma = sigma, r = r, q = q,  S0 = S0), \n",
        "                                     generator.time_path, generator.S_path, generator.W_path])}\n",
        "\n",
        "    with tf.Session(graph=g) as sess:\n",
        "        sess.run(tf.global_variables_initializer())\n",
        "        if f == None:\n",
        "            err, best_err = np.inf, np.inf\n",
        "            i = 0\n",
        "            while (i <= max_iter):                \n",
        "                sess.run(gradient_step, feed_dict=feed_dict)\n",
        "                err = sess.run(loss_f, feed_dict=feed_dict)\n",
        "                if i % verbose == 0:\n",
        "                    print('iter = {:3} | err = {:.4f}'.format(i, err))\n",
        "                i += 1\n",
        "                if err < best_err:\n",
        "                    best_err =err\n",
        "                    f_fitted = sess.run(f_)\n",
        "            print('Fitted f = {0:5.4f}'.format(f_fitted))\n",
        "            feed_dict.update({f_:float(f_fitted)})  \n",
        "        else:\n",
        "            feed_dict.update({f_:f})\n",
        "\n",
        "        v0_fitted, w0_fitted = sess.run([v0, w0], feed_dict)\n",
        "        if f == None: \n",
        "            return v0_fitted, w0_fitted, f_fitted\n",
        "        else:\n",
        "            return v0_fitted, w0_fitted"
      ],
      "execution_count": 0,
      "outputs": []
    },
    {
      "cell_type": "markdown",
      "metadata": {
        "id": "eCKpOHRSQnhx",
        "colab_type": "text"
      },
      "source": [
        "Now, we check our first couple computation codes by reproducing the numerical resultat of the article. We expect some following results (cf. the article):\n",
        "\n",
        "*   For $\\alpha = 0$, $FVA \\simeq 2.6$ and $KVA = 0$\n",
        "*   For $\\alpha = 1$, $FVA <1$ and $KVA \\simeq 8.24 $\n",
        "*   FVA is a decreasing (linear) function of $\\alpha$ while KVA is a increasing (linear) function of $\\alpha$\n",
        "\n",
        "We test monthly time step\n",
        "\n",
        "\n"
      ]
    },
    {
      "cell_type": "code",
      "metadata": {
        "id": "H6Ad6q8Wy9Op",
        "colab_type": "code",
        "outputId": "a82a09e5-76eb-4c7a-8925-ebe4e10941de",
        "colab": {
          "base_uri": "https://localhost:8080/",
          "height": 124
        }
      },
      "source": [
        "%%time\n",
        "first_couple_graph = first_couple_graph_generator(degree_poly = 5, nb_step = 5*12)"
      ],
      "execution_count": 10,
      "outputs": [
        {
          "output_type": "stream",
          "text": [
            "WARNING:tensorflow:From /tensorflow-1.15.2/python3.6/tensorflow_core/python/ops/math_grad.py:1424: where (from tensorflow.python.ops.array_ops) is deprecated and will be removed in a future version.\n",
            "Instructions for updating:\n",
            "Use tf.where in 2.0, which has the same broadcast rule as np.where\n",
            "CPU times: user 47.3 s, sys: 495 ms, total: 47.8 s\n",
            "Wall time: 47.8 s\n"
          ],
          "name": "stdout"
        }
      ]
    },
    {
      "cell_type": "code",
      "metadata": {
        "id": "r4Dz4VpcSCp_",
        "colab_type": "code",
        "outputId": "55e1e46d-891b-4b16-e478-a5fc11e3509e",
        "colab": {
          "base_uri": "https://localhost:8080/",
          "height": 225
        }
      },
      "source": [
        "FVA_test = []\n",
        "KVA_test = []\n",
        "\n",
        "p1 = time.time()\n",
        "for alpha_ in alpha : \n",
        "    v,w = first_couple_calculator(first_couple_graph, nb_step= 5*12,\n",
        "              sigma = 0.3, f = 1.2, alpha = alpha_, \n",
        "              omega = np.array([0., 0., 0., 0., 1.]),\n",
        "              K = np.array([110., 115., 120., 125., 107.]),\n",
        "              verbose = 5)\n",
        "    FVA_test.append(v)\n",
        "    KVA_test.append(w)\n",
        "    print('alpha = {:.2f} | FVA = {:.5f} | KVA = {:.5f}'.format(alpha_,v,w))\n",
        "    \n",
        "print('Total time with {} paths | {} time steps | {:.2f} alphas | {:.4f} s'.format(nb_path, 5*12, len(alpha), time.time()-p1))"
      ],
      "execution_count": 11,
      "outputs": [
        {
          "output_type": "stream",
          "text": [
            "alpha = 0.00 | FVA = 2.57105 | KVA = 0.00000\n",
            "alpha = 0.10 | FVA = 2.34419 | KVA = 0.95852\n",
            "alpha = 0.20 | FVA = 2.15859 | KVA = 1.91194\n",
            "alpha = 0.30 | FVA = 1.88982 | KVA = 2.85649\n",
            "alpha = 0.40 | FVA = 1.75949 | KVA = 3.80137\n",
            "alpha = 0.50 | FVA = 1.49164 | KVA = 4.72949\n",
            "alpha = 0.60 | FVA = 1.26564 | KVA = 5.65687\n",
            "alpha = 0.70 | FVA = 1.02056 | KVA = 6.57323\n",
            "alpha = 0.80 | FVA = 0.87155 | KVA = 7.49257\n",
            "alpha = 0.90 | FVA = 0.69196 | KVA = 8.40224\n",
            "alpha = 1.00 | FVA = 0.50612 | KVA = 9.30274\n",
            "Total time with 20000 paths | 60 time steps | 11.00 alphas | 160.0336 s\n"
          ],
          "name": "stdout"
        }
      ]
    },
    {
      "cell_type": "code",
      "metadata": {
        "id": "6cpksy5YV-hJ",
        "colab_type": "code",
        "outputId": "3ea1963e-8d6a-45ba-b9b3-2ca14ac17d8d",
        "colab": {
          "base_uri": "https://localhost:8080/",
          "height": 350
        }
      },
      "source": [
        "plt.figure(figsize=(8,5))\n",
        "plt.plot(alpha, KVA_test, label = 'KVA')\n",
        "plt.plot(alpha, FVA_test, label = 'FVA')\n",
        "plt.legend(loc=\"upper left\")\n",
        "plt.title('Annual time step FVA-KVA test')\n",
        "plt.ylabel('')\n",
        "plt.xlabel('alpha')\n",
        "plt.ylim(0., 10.0) \n",
        "plt.xlim(0., 1.0) \n",
        "plt.show()"
      ],
      "execution_count": 12,
      "outputs": [
        {
          "output_type": "display_data",
          "data": {
            "image/png": "[encoded data removed]",
            "text/plain": [
              "<Figure size 576x360 with 1 Axes>"
            ]
          },
          "metadata": {
            "tags": [],
            "needs_background": "light"
          }
        }
      ]
    },
    {
      "cell_type": "markdown",
      "metadata": {
        "id": "qyNJ9wZJQnXV",
        "colab_type": "text"
      },
      "source": [
        "We observe a good reproducing result for FVA but a little bit higher KVA's line than the one in the article ($\\sim 12.8\\%$ higher at $\\alpha = 1$)"
      ]
    },
    {
      "cell_type": "markdown",
      "metadata": {
        "id": "oFyIIBMECCS6",
        "colab_type": "text"
      },
      "source": [
        "Now by fixing $\\alpha = 1$ and considering monthly time steps, we expect for the parameter $f$ to be close to the set up in the article (1.2)."
      ]
    },
    {
      "cell_type": "code",
      "metadata": {
        "id": "9fH0ZlvuG7cx",
        "colab_type": "code",
        "outputId": "512d9415-509e-463b-eff3-598e47786c31",
        "colab": {
          "base_uri": "https://localhost:8080/",
          "height": 451
        }
      },
      "source": [
        "%%time\n",
        "first_couple_calculator(first_couple_graph, nb_step= 5*12,\n",
        "                        sigma = 0.3, f = None, alpha = 1.0, \n",
        "                        omega = np.array([0., 0., 0., 0., 1.]),\n",
        "                        K = np.array([110., 115., 120., 125., 107.]),\n",
        "                        verbose = 5)"
      ],
      "execution_count": 13,
      "outputs": [
        {
          "output_type": "stream",
          "text": [
            "iter =   0 | err = 0.0943\n",
            "iter =   5 | err = 0.0536\n",
            "iter =  10 | err = 0.1566\n",
            "iter =  15 | err = 0.1027\n",
            "iter =  20 | err = 0.0100\n",
            "iter =  25 | err = 0.0066\n",
            "iter =  30 | err = 0.0212\n",
            "iter =  35 | err = 0.0148\n",
            "iter =  40 | err = 0.0043\n",
            "iter =  45 | err = 0.0002\n",
            "iter =  50 | err = 0.0002\n",
            "iter =  55 | err = 0.0008\n",
            "iter =  60 | err = 0.0009\n",
            "iter =  65 | err = 0.0007\n",
            "iter =  70 | err = 0.0005\n",
            "iter =  75 | err = 0.0003\n",
            "iter =  80 | err = 0.0002\n",
            "iter =  85 | err = 0.0001\n",
            "iter =  90 | err = 0.0001\n",
            "iter =  95 | err = 0.0000\n",
            "iter = 100 | err = 0.0000\n",
            "Fitted f = 1.0593\n",
            "CPU times: user 1min 47s, sys: 7.07 s, total: 1min 54s\n",
            "Wall time: 1min 35s\n"
          ],
          "name": "stdout"
        },
        {
          "output_type": "execute_result",
          "data": {
            "text/plain": [
              "(0.7014740459030708, 8.24138628275204, 1.0593335113161333)"
            ]
          },
          "metadata": {
            "tags": []
          },
          "execution_count": 13
        }
      ]
    },
    {
      "cell_type": "markdown",
      "metadata": {
        "id": "IcyTJhuAiPvB",
        "colab_type": "text"
      },
      "source": [
        "We find out that $f = 1.058$ which is not bad. \n",
        "\n",
        "**Comment:** The results could be closer to ones in the article while setting annual time step."
      ]
    },
    {
      "cell_type": "markdown",
      "metadata": {
        "id": "GFkCz_LdQnFA",
        "colab_type": "text"
      },
      "source": [
        "Now, let's find out fitted $f$ for our model setup.\n",
        "\n"
      ]
    },
    {
      "cell_type": "code",
      "metadata": {
        "id": "kyrpSiA84W-b",
        "colab_type": "code",
        "outputId": "35dba096-9a51-4c4e-a02b-3f3e72f40970",
        "colab": {
          "base_uri": "https://localhost:8080/",
          "height": 173
        }
      },
      "source": [
        "%%time\n",
        "_,_,f = first_couple_calculator(first_couple_graph, nb_step= 5*12,\n",
        "              f = None, alpha = 1.0,\n",
        "              verbose = 20)"
      ],
      "execution_count": 14,
      "outputs": [
        {
          "output_type": "stream",
          "text": [
            "iter =   0 | err = 4.2168\n",
            "iter =  20 | err = 0.0475\n",
            "iter =  40 | err = 0.0420\n",
            "iter =  60 | err = 0.0053\n",
            "iter =  80 | err = 0.0003\n",
            "iter = 100 | err = 0.0000\n",
            "Fitted f = 0.6571\n",
            "CPU times: user 1min 48s, sys: 8.03 s, total: 1min 56s\n",
            "Wall time: 1min 34s\n"
          ],
          "name": "stdout"
        }
      ]
    },
    {
      "cell_type": "markdown",
      "metadata": {
        "id": "2X6hF6DkQm8J",
        "colab_type": "text"
      },
      "source": [
        "## 4.3 Second couple  $(v_1,w_2)$\n",
        "\n",
        "For the second approximation couple, the interaction of FVA and KVA no longer exists. For the sake of simplification for readers, we define sepately 1 graph and 1 calculation for each metric."
      ]
    },
    {
      "cell_type": "markdown",
      "metadata": {
        "id": "67xGz4OuQmiO",
        "colab_type": "text"
      },
      "source": [
        "The numerical scheme for $v_1$ does the gradient descent at each step of time. Hence, we definite a one step graph for $v_1$ that takes the values at $t_{i+1}$ as input and returns the ones at $t_{i}$ as output. Four series that will be updated over time are $v_1, \\partial_S{v_1}, u_{bs}$ and $\\Delta{u_{bs}}$. The structure of this update graph could be the same as $v_1$ in the first couple."
      ]
    },
    {
      "cell_type": "code",
      "metadata": {
        "id": "OiqVOy3sFKmp",
        "colab_type": "code",
        "colab": {}
      },
      "source": [
        "def one_step_update_v1_graph_generator(degree_poly = 1) :\n",
        "    g = tf.Graph()\n",
        "    with g.as_default():        \n",
        "        alpha = tf.placeholder(tf.float32, shape = tuple(), name = 'alpha')\n",
        "        lamb = tf.placeholder(tf.float32, shape = tuple(), name = 'lamb')\n",
        "        sigma = tf.placeholder(tf.float32, shape = tuple(), name = 'sigma')\n",
        "        r = tf.placeholder(tf.float32, shape = tuple(), name = 'r')\n",
        "        f =  tf.placeholder(tf.float32, shape = tuple(), name = 'f')\n",
        "        time_step =  tf.placeholder(tf.float32, shape = tuple(), name = 'time_step')\n",
        "\n",
        "        beta = 1/(1+r*time_step)\n",
        "        \n",
        "        S_path = tf.placeholder(tf.float32, shape = (None, 2), name = 'S_path')\n",
        "        W_path = tf.placeholder(tf.float32, shape = (None, 2), name = 'W_path')\n",
        "            \n",
        "        ubs = tf.placeholder(tf.float32, shape = (None, 1), name = 'ubs')\n",
        "        delta_bs = tf.placeholder(tf.float32, shape = (None, 1), name = 'delta_bs')        \n",
        "        v = tf.placeholder(tf.float32, shape = (None, 1), name = 'v')\n",
        "        delta_v = tf.placeholder(tf.float32, shape = (None, 1), name = 'delta_v')\n",
        "\n",
        "        ########## Setup for v1 ##########\n",
        "        c = lamb* tf.maximum(-alpha*f*sigma*S_path[:,-1:]*tf.abs(delta_v + delta_bs) - v + ubs ,0)\n",
        "\n",
        "        W_delta_v = tf.get_variable('W_delta_v',shape =(degree_poly+1,1), dtype= tf.float32,\n",
        "                                    initializer=tf.random_normal_initializer(mean=0, stddev=np.sqrt(2/(degree_poly+1))))\n",
        "        W_v = tf.get_variable('W_v',shape =(degree_poly+1,1), dtype= tf.float32,\n",
        "                                    initializer=tf.random_normal_initializer(mean=0, stddev=np.sqrt(2/(degree_poly+1))))\n",
        "        W_delta_bs = tf.get_variable('W_delta_bs',shape =(degree_poly+1,1), dtype= tf.float32,\n",
        "                                    initializer=tf.random_normal_initializer(mean=0, stddev=np.sqrt(2/(degree_poly+1))))\n",
        "        W_bs = tf.get_variable('W_bs',shape =(degree_poly+1,1), dtype= tf.float32,\n",
        "                                    initializer=tf.random_normal_initializer(mean=0, stddev=np.sqrt(2/(degree_poly+1))))\n",
        "        ########## 1 step update for v1 ##########\n",
        "\n",
        "        ##### Update v1 #####\n",
        "        mean_S, var_S = tf.nn.moments(S_path[:,0:1], [0])\n",
        "        X = poly_creator((S_path[:,0:1]-mean_S)/tf.sqrt(var_S), degree_poly)\n",
        "        # Regressor delta_v : S -> poly_creator(S) -> v*(W - W_)\n",
        "        Y_delta_v = v*(W_path[:,1:] - W_path[:,0:1])\n",
        "        pred_delta_v = tf.matmul(X, W_delta_v)        \n",
        "        loss_delta_v = tf.reduce_mean((Y_delta_v - pred_delta_v)**2, name = 'loss_delta_v')\n",
        "        coef_delta_v = tf.matmul(X, tf.gradients(loss_delta_v, W_delta_v)[0])\n",
        "        lr_delta_v =  tf.reduce_sum(coef_delta_v*(pred_delta_v - Y_delta_v)) / tf.reduce_sum(coef_delta_v**2)\n",
        "        gradient_delta_v = tf.train.GradientDescentOptimizer(lr_delta_v).minimize(loss_delta_v, var_list = W_delta_v, name='gradient_delta_v')\n",
        "\n",
        "        delta_v_new = tf.identity(tf.matmul(X, W_delta_v)/ (sigma*time_step*S_path[:,0:1]), name= 'delta_v_new')\n",
        "\n",
        "        # Regressor v from next step : S -> poly_creator(S) -> v + time_step*c\n",
        "        Y_v = v + time_step*c\n",
        "        pred_v = tf.matmul(X, W_v)         \n",
        "        loss_v = tf.reduce_mean((Y_v - pred_v)**2, name = 'loss_v')\n",
        "        coef_v = tf.matmul(X, tf.gradients(loss_v, W_v)[0])\n",
        "        lr_v = tf.reduce_sum(coef_v*(pred_v - Y_v)) / tf.reduce_sum(coef_v**2)\n",
        "        gradient_v = tf.train.GradientDescentOptimizer(lr_v).minimize(loss_v, var_list = W_v, name='gradient_v')\n",
        "\n",
        "        v_new = tf.identity(beta*tf.matmul(X, W_v), name= 'v_new')\n",
        "        \n",
        "        # Regressor delta_bs : S -> poly_creator(S) -> ubs*(W - W_)\n",
        "        Y_delta_bs = ubs*(W_path[:,1:] - W_path[:,0:1])\n",
        "        pred_delta_bs = tf.matmul(X, W_delta_bs) \n",
        "        loss_delta_bs = tf.reduce_mean((Y_delta_bs - pred_delta_bs)**2, name = 'loss_delta_bs')\n",
        "        coef_delta_bs = tf.matmul(X, tf.gradients(loss_delta_bs, W_delta_bs)[0])\n",
        "        lr_delta_bs = tf.reduce_sum(coef_delta_bs*(pred_delta_bs - Y_delta_bs)) / tf.reduce_sum(coef_delta_bs**2)\n",
        "        gradient_delta_bs = tf.train.GradientDescentOptimizer(lr_delta_bs).minimize(loss_delta_bs, var_list = W_delta_bs, name='gradient_delta_bs')\n",
        "\n",
        "        delta_bs_new = tf.identity(tf.matmul(X, W_delta_bs)/ (sigma*time_step*S_path[:,0:1]), name= 'delta_bs_new')\n",
        "\n",
        "        # Regressor ubs : S -> poly_creator(S) -> ubs\n",
        "        pred_bs = tf.matmul(X, W_bs)\n",
        "        loss_bs = tf.reduce_mean((ubs - pred_bs)**2, name = 'loss_bs')\n",
        "        coef_bs = tf.matmul(X, tf.gradients(loss_bs, W_bs)[0])\n",
        "        lr_bs = tf.reduce_sum(coef_bs*(pred_bs - ubs)) / tf.reduce_sum(coef_bs**2)\n",
        "        gradient_bs = tf.train.GradientDescentOptimizer(lr_bs).minimize(loss_bs, var_list = W_bs, name='gradient_bs')\n",
        "                        \n",
        "        ubs_new = tf.identity(beta*tf.matmul(X, W_bs), name= 'ubs_new')\n",
        "           \n",
        "    return g"
      ],
      "execution_count": 0,
      "outputs": []
    },
    {
      "cell_type": "code",
      "metadata": {
        "id": "Tr8DNDBPCgRI",
        "colab_type": "code",
        "colab": {}
      },
      "source": [
        "def v1_SGD_calculator(g, S0 = S0, r = r, q = q, sigma = sigma,\n",
        "                      omega = omega, K = K, T = T, \n",
        "                      alpha = alpha, h = h, lamb = lamb, f = None,\n",
        "                      nb_step = nb_step, nb_path = nb_path,\n",
        "                      eps = 10e-8, max_iter = 5, verbose = 1):\n",
        "    # Sort calls by maturity\n",
        "    ind = T.argsort()\n",
        "    T = T[ind]\n",
        "    omega = omega[ind]\n",
        "    K = K[ind]\n",
        "\n",
        "    # placeholder\n",
        "    alpha_ = g.get_tensor_by_name('alpha:0')\n",
        "    lamb_ = g.get_tensor_by_name('lamb:0')\n",
        "    sigma_ = g.get_tensor_by_name('sigma:0')\n",
        "    r_ = g.get_tensor_by_name('r:0')\n",
        "    f_ = g.get_tensor_by_name('f:0')\n",
        "    time_step_ = g.get_tensor_by_name('time_step:0')\n",
        "    S_path_ = g.get_tensor_by_name('S_path:0')\n",
        "    W_path_ = g.get_tensor_by_name('W_path:0')\n",
        "\n",
        "    ubs = g.get_tensor_by_name('ubs:0')\n",
        "    delta_bs = g.get_tensor_by_name('delta_bs:0')        \n",
        "    v = g.get_tensor_by_name('v:0')\n",
        "    delta_v = g.get_tensor_by_name('delta_v:0')\n",
        "\n",
        "    ubs_new = g.get_tensor_by_name('ubs_new:0')\n",
        "    delta_bs_new = g.get_tensor_by_name('delta_bs_new:0')        \n",
        "    v_new = g.get_tensor_by_name('v_new:0')\n",
        "    delta_v_new = g.get_tensor_by_name('delta_v_new:0')\n",
        "        \n",
        "    # gradient\n",
        "    gradient_delta_v = g.get_operation_by_name('gradient_delta_v')\n",
        "    gradient_v = g.get_operation_by_name('gradient_v')\n",
        "    gradient_delta_bs = g.get_operation_by_name('gradient_delta_bs')\n",
        "    gradient_bs = g.get_operation_by_name('gradient_bs')\n",
        "    loss_delta_v = g.get_tensor_by_name('loss_delta_v:0')\n",
        "    loss_v = g.get_tensor_by_name('loss_v:0')\n",
        "    loss_delta_bs = g.get_tensor_by_name('loss_delta_bs:0')\n",
        "    loss_bs = g.get_tensor_by_name('loss_bs:0')\n",
        "    \n",
        "    # generate paths\n",
        "    generator = path_generator(S0 = S0, T = T.max(), r = r, q = q, \n",
        "                               sigma = sigma, nb_step = nb_step)\n",
        "    generator.path_generate(nb_path)\n",
        "    \n",
        "    # setup at T\n",
        "    ubs_T = np.zeros([nb_path,1])\n",
        "    delta_bs_T = np.zeros([nb_path,1])\n",
        "    for n in range(len(K)) :\n",
        "        ubs_T += (T[n] == generator.time_path[-1])*omega[n] * np.maximum(generator.S_path[:,-1:] - K[n], 0.)\n",
        "        delta_bs_T += (T[n] == generator.time_path[-1])*omega[n]*(generator.S_path[:,-1:] >= K[n])\n",
        "    feed_dict = {k:v for k,v in zip([alpha_, lamb_, sigma_, r_, f_, time_step_,\n",
        "                                     ubs, delta_bs, v, delta_v],\n",
        "                                    [alpha, lamb, sigma, r, f, T[-1]/nb_step,\n",
        "                                     ubs_T, delta_bs_T, np.zeros([nb_path,1]), np.zeros([nb_path,1])])}\n",
        "    \n",
        "    for i in range(nb_step-1, 0, -1):\n",
        "        feed_dict.update({S_path_: generator.S_path[:,i:(i+2)]})\n",
        "        feed_dict.update({W_path_: generator.W_path[:,i:(i+2)]})\n",
        "        #print(feed_dict)\n",
        "        with tf.Session(graph=g) as sess:\n",
        "            sess.run(tf.global_variables_initializer())            \n",
        "            j = 0\n",
        "            err_delta_v, err_v, err_delta_bs, err_bs = np.inf, np.inf, np.inf, np.inf          \n",
        "            while (j <= max_iter):\n",
        "                #print(sess.run([lr_delta_v,loss_delta_v], feed_dict))\n",
        "                if err_delta_v > eps:\n",
        "                    sess.run(gradient_delta_v, feed_dict=feed_dict)\n",
        "                    err_delta_v = sess.run(loss_delta_v, feed_dict)\n",
        "                if err_v > eps:\n",
        "                    sess.run(gradient_v, feed_dict=feed_dict)\n",
        "                    err_v = sess.run(loss_v, feed_dict)\n",
        "                if err_delta_bs > eps:\n",
        "                    sess.run(gradient_delta_bs, feed_dict=feed_dict)\n",
        "                    err_delta_bs = sess.run(loss_delta_bs, feed_dict)\n",
        "                if err_bs > eps:\n",
        "                    sess.run(gradient_bs, feed_dict=feed_dict)\n",
        "                    err_bs =sess.run(loss_bs, feed_dict)\n",
        "                \n",
        "                j +=1\n",
        "            # Save new states of ubs, delta_bs, v, delta_v\n",
        "            feed_dict.update({k:v for k,v in zip([ubs, delta_bs, v, delta_v],\n",
        "                                                 sess.run([ubs_new, delta_bs_new,v_new, delta_v_new], feed_dict=feed_dict)\n",
        "                                                 )})\n",
        "            \n",
        "        for n in range(len(T)) :\n",
        "            feed_dict[ubs] += (T[n] == generator.time_path[i])*omega[n] * np.maximum(generator.S_path[:,i:(i+1)] - K[n], 0.)\n",
        "\n",
        "    c = lamb * np.maximum(-alpha*f*sigma*generator.S_path[:,0:1]*np.abs(feed_dict[delta_v] + feed_dict[delta_bs]) - feed_dict[v] + feed_dict[ubs],0)\n",
        "    v0 = np.mean((1/(1+r*T.max()/nb_step))*(feed_dict[v] + T.max()/nb_step*c))\n",
        "\n",
        "    return v0"
      ],
      "execution_count": 0,
      "outputs": []
    },
    {
      "cell_type": "markdown",
      "metadata": {
        "id": "h3jGhGTtFpfd",
        "colab_type": "text"
      },
      "source": [
        "Try this graph with monthly time step"
      ]
    },
    {
      "cell_type": "code",
      "metadata": {
        "id": "dI12RuPSCjdT",
        "colab_type": "code",
        "colab": {
          "base_uri": "https://localhost:8080/",
          "height": 52
        },
        "outputId": "0c934c9c-86c6-4cd6-a826-d9fdaa951b2a"
      },
      "source": [
        "%%time\n",
        "one_step_update_v1_graph = one_step_update_v1_graph_generator(degree_poly = 1)"
      ],
      "execution_count": 17,
      "outputs": [
        {
          "output_type": "stream",
          "text": [
            "CPU times: user 455 ms, sys: 4.57 ms, total: 459 ms\n",
            "Wall time: 460 ms\n"
          ],
          "name": "stdout"
        }
      ]
    },
    {
      "cell_type": "code",
      "metadata": {
        "id": "sHaQ7zc9CpQv",
        "colab_type": "code",
        "colab": {
          "base_uri": "https://localhost:8080/",
          "height": 243
        },
        "outputId": "05206732-d4a0-413e-c2cd-0e08e07f5ded"
      },
      "source": [
        "%%time\n",
        "for alpha_ in alpha:\n",
        "    v =v1_SGD_calculator(one_step_update_v1_graph, nb_step= 5*12,\n",
        "              sigma = 0.3, f = 1.2, alpha = alpha_, max_iter = 5,\n",
        "              omega = np.array([0., 0., 0., 0., 1.]),\n",
        "              K = np.array([110., 115., 120., 125., 107.]))\n",
        "    print('alpha = {:.2f} | FVA = {:.5f}'.format(alpha_,v))"
      ],
      "execution_count": 18,
      "outputs": [
        {
          "output_type": "stream",
          "text": [
            "alpha = 0.00 | FVA = 2.91334\n",
            "alpha = 0.10 | FVA = 2.58913\n",
            "alpha = 0.20 | FVA = 2.38311\n",
            "alpha = 0.30 | FVA = 2.14949\n",
            "alpha = 0.40 | FVA = 1.93902\n",
            "alpha = 0.50 | FVA = 1.73658\n",
            "alpha = 0.60 | FVA = 1.51108\n",
            "alpha = 0.70 | FVA = 1.28318\n",
            "alpha = 0.80 | FVA = 1.10307\n",
            "alpha = 0.90 | FVA = 0.90671\n",
            "alpha = 1.00 | FVA = 0.78339\n",
            "CPU times: user 5min 39s, sys: 14 s, total: 5min 53s\n",
            "Wall time: 5min 29s\n"
          ],
          "name": "stdout"
        }
      ]
    },
    {
      "cell_type": "markdown",
      "metadata": {
        "id": "A2UoXJQuCrM0",
        "colab_type": "text"
      },
      "source": [
        "The estimated FVA by this method seems to be coherent with the results in the article and in the polynominal regression above.\n",
        "\n",
        "**Attention:** By changing the parameter of `one_step_update_v1_graph`, we can use the polynomial matrix as the input features, but we note that it will make the computed metric to be instable and illogically far from the expected values. Moreover, in this modeling, the underlying $S$ need be normalized for a good performance."
      ]
    },
    {
      "cell_type": "markdown",
      "metadata": {
        "id": "-pojiUdBMQkB",
        "colab_type": "text"
      },
      "source": [
        "We pass to the last model for $w_2$ ($w$ for short) using neutral network. Due to the potentially heavy computation, we only consider 1 hidden layer network with a parameterized number of units.\n",
        "In this graph, we define 3 loss function:\n",
        "+ For training $u_{bs}$ and $\\Delta_{ubs}$: $\\mathbb{E}\\left[\\frac{\\Vert (u_{bs})_T - Z \\Vert^2_2}{Var(Z)}\\right] $ where Z is the portfolio's payoff at $T$\n",
        "+ For training $w$ and $\\partial_S w$ when we know $f$: $\\mathbb{E}\\left[\\Vert w_T\\Vert^2_2\\right]$\n",
        "+ For training $w$, $\\partial_S w$ and $f$: $\\mathbb{E}\\left[\\Vert w_T\\Vert^2_2 + \\Vert w_0 - 0.3(u_{bs})_0\\Vert^2_2\\right]$"
      ]
    },
    {
      "cell_type": "code",
      "metadata": {
        "id": "HpQKfQG-DqDi",
        "colab_type": "code",
        "colab": {}
      },
      "source": [
        "def w2_DL_graph_generator(nb_step = nb_step, nb_call = len(T),lr_bs = 0.1, lr_w= 0.1, nb_hiddenunits = 50) :\n",
        "    tf.reset_default_graph()\n",
        "    g = tf.Graph()\n",
        "    with g.as_default():\n",
        "        \n",
        "        alpha = tf.placeholder(tf.float32, shape = tuple(), name = 'alpha')        \n",
        "        sigma = tf.placeholder(tf.float32, shape = tuple(), name = 'sigma')\n",
        "        r = tf.placeholder(tf.float32, shape = tuple(), name = 'r')\n",
        "        h = tf.placeholder(tf.float32, shape = tuple(), name = 'h')\n",
        "\n",
        "        T = tf.placeholder(tf.float32, name = 'T')\n",
        "        omega = tf.placeholder(tf.float32,  name = 'omega')\n",
        "        K = tf.placeholder(tf.float32, name = 'K')\n",
        "        ubs_0 = tf.placeholder(tf.float32, shape = tuple(), name = 'ubs_0')\n",
        "        \n",
        "        time_path = tf.placeholder(tf.float32, name = 'time_path')\n",
        "        time_step = T[-1] / nb_step\n",
        "        # Capitalization factor\n",
        "        beta = lambda x: 1+x*time_step\n",
        "\n",
        "        # f could be a variable\n",
        "        f = tf.get_variable('f', dtype=tf.float32,\n",
        "                            initializer=tf.constant(1.2, dtype= tf.float32),\n",
        "                            constraint=lambda x: tf.clip_by_value(x, 0, np.inf))\n",
        "\n",
        "        S_path = tf.placeholder(tf.float32, shape = (None, nb_step+1), name = 'S_path')\n",
        "        Mean_S, Var_S = tf.nn.moments(S_path, axes = [0,0])\n",
        "        Sd_S = tf.sqrt(Var_S)\n",
        "\n",
        "        # Neutral network parameters\n",
        "        Weight_w_1 = tf.get_variable('weights_w/W1', shape=(1, nb_hiddenunits), \n",
        "                             dtype=tf.float32, \n",
        "                             initializer=tf.random_normal_initializer(mean=0, stddev=np.sqrt(2/(nb_hiddenunits+1))))\n",
        "        bias_w_1 = tf.get_variable('biases_w/b1', shape=(nb_hiddenunits,), \n",
        "                             dtype=tf.float32, \n",
        "                             initializer=tf.zeros_initializer())\n",
        "        \n",
        "        Weight_w_out = tf.get_variable('weights_w/Wout', shape=(nb_hiddenunits, 1), \n",
        "                             dtype=tf.float32, \n",
        "                             initializer=tf.random_normal_initializer(mean=0, stddev=np.sqrt(2/(nb_hiddenunits+1))))\n",
        "        bias_w_out = tf.get_variable('biases_w/bout', shape=(1,), \n",
        "                             dtype=tf.float32, \n",
        "                             initializer=tf.zeros_initializer())\n",
        "        \n",
        "        Weight_bs_1 = tf.get_variable('weights_bs/W1', shape=(1, nb_hiddenunits), \n",
        "                             dtype=tf.float32, \n",
        "                             initializer=tf.random_normal_initializer(mean=0, stddev=np.sqrt(2/(nb_hiddenunits+1))))\n",
        "        bias_bs_1 = tf.get_variable('biases_bs/b1', shape=(nb_hiddenunits,), \n",
        "                             dtype=tf.float32, \n",
        "                             initializer=tf.zeros_initializer())\n",
        "        \n",
        "        Weight_bs_out = tf.get_variable('weights_bs/Wout', shape=(nb_hiddenunits, 1), \n",
        "                             dtype=tf.float32, \n",
        "                             initializer=tf.random_normal_initializer(mean=0, stddev=np.sqrt(2/(nb_hiddenunits+1))))\n",
        "        bias_bs_out = tf.get_variable('biases_bs/bout', shape=(1,), \n",
        "                             dtype=tf.float32, \n",
        "                             initializer=tf.zeros_initializer())\n",
        "        \n",
        "        w0 = tf.get_variable('w0', shape=tuple(), dtype=tf.float32, initializer=tf.zeros_initializer())\n",
        "        ubs0 = tf.get_variable('ubs0', shape=tuple(), dtype=tf.float32, initializer=tf.zeros_initializer())\n",
        "\n",
        "        delta_w0 = tf.get_variable('delta_w0', shape=tuple(), dtype=tf.float32, initializer=tf.zeros_initializer())\n",
        "        delta_bs0 = tf.get_variable('delta_bs0', shape=tuple(), dtype=tf.float32, initializer=tf.zeros_initializer())\n",
        "        w = w0\n",
        "        ubs = ubs0\n",
        "\n",
        "        delta_w = delta_w0\n",
        "        delta_bs = delta_bs0\n",
        "\n",
        "        for i in range(1, nb_step+1):\n",
        "            # Update w, ubs\n",
        "            w = beta(r+h)*w - time_step*r*S_path[:,(i-1):i]*delta_w + delta_w*(S_path[:,i:(i+1)]-S_path[:,(i-1):i]) - time_step*h*tf.maximum(alpha*f*sigma*S_path[:,(i-1):i]*tf.abs(delta_bs), w)\n",
        "            ubs = beta(r)*ubs - time_step*r*S_path[:,(i-1):i]*delta_bs + delta_bs*(S_path[:,i:(i+1)]-S_path[:,(i-1):i])\n",
        "                        \n",
        "            if i < nb_step:\n",
        "            # Remove payoff of the contrats that expire at this step\n",
        "                for n in range(nb_call) :\n",
        "                    ubs -= tf.cast(tf.equal(T[n], time_path[i]), tf.float32)*omega[n] * tf.maximum(S_path[:,i:(i+1)] - K[n], 0.)\n",
        "            # Update delta_w and delta_bs by NN\n",
        "                delta_w = tf.matmul(tf.sigmoid(tf.matmul((S_path[:, i:(i+1)] - Mean_S[i])/Sd_S[i], Weight_w_1) + bias_w_1), Weight_w_out) + bias_w_out\n",
        "                delta_bs = tf.matmul(tf.sigmoid(tf.matmul((S_path[:, i:(i+1)] - Mean_S[i])/Sd_S[i], Weight_bs_1) + bias_bs_1), Weight_bs_out) + bias_bs_out\n",
        "        \n",
        "        Z = tf.zeros_like(S_path[:,-1:])\n",
        "        for n in range(nb_call) :\n",
        "            Z += tf.cast(tf.equal(T[n], time_path[-1]), tf.float32)*omega[n] * tf.maximum(S_path[:,-1:] - K[n], 0.)\n",
        "        _, Z_var = tf.nn.moments(Z, [0])\n",
        "\n",
        "        loss_bs = tf.reduce_mean((ubs - Z)**2/Z_var, name='loss_bs')\n",
        "        loss_w_without_f = tf.reduce_mean(tf.square(w), name = 'loss_w_without_f')\n",
        "        loss_w_with_f = tf.reduce_mean(tf.square(w) + tf.square(w0 - ubs_0*0.3), name = 'loss_w_with_f')\n",
        "        MSE_w_T = tf.reduce_mean(w**2, name = 'MSE_w_T')\n",
        "        \n",
        "        weights_w = tf.get_collection(tf.GraphKeys.TRAINABLE_VARIABLES, scope='weights_w')\n",
        "        biases_w = tf.get_collection(tf.GraphKeys.TRAINABLE_VARIABLES, scope='biases_w')\n",
        "        \n",
        "        weights_bs = tf.get_collection(tf.GraphKeys.TRAINABLE_VARIABLES, scope='weights_bs')\n",
        "        biases_bs = tf.get_collection(tf.GraphKeys.TRAINABLE_VARIABLES, scope='biases_bs')\n",
        "\n",
        "        gradient_bs = tf.train.AdamOptimizer(lr_bs).minimize(loss_bs, var_list=weights_bs+biases_bs+[delta_bs0, ubs0], name='gradient_bs')\n",
        "        gradient_w_without_f = tf.train.AdamOptimizer(lr_w).minimize(loss_w_without_f, var_list=weights_w+biases_w+[delta_w0, w0], name='gradient_w_without_f')\n",
        "        gradient_w_with_f = tf.train.AdamOptimizer(lr_w).minimize(loss_w_with_f, var_list=weights_w+biases_w+[delta_w0, w0,f], name='gradient_w_with_f')\n",
        "\n",
        "    return g"
      ],
      "execution_count": 0,
      "outputs": []
    },
    {
      "cell_type": "code",
      "metadata": {
        "id": "h9sryY93DrKr",
        "colab_type": "code",
        "colab": {}
      },
      "source": [
        "def w2_DL_graph_calculator(g, S0 = S0, r = r, q = q, sigma = sigma,\n",
        "                  omega = omega, K = K, T = T, \n",
        "                  alpha = 1., h = h, f = None,\n",
        "                  nb_step = nb_step, nb_path = nb_path,\n",
        "                  eps = 1e-6, max_iter_bs = 150, max_iter_w = 200, verbose = 10):\n",
        "  \n",
        "    # Sort calls by maturity\n",
        "    ind = T.argsort()\n",
        "    T = T[ind]\n",
        "    omega = omega[ind]\n",
        "    K = K[ind]\n",
        "\n",
        "    # placeholder\n",
        "    alpha_ = g.get_tensor_by_name('alpha:0')\n",
        "    sigma_ = g.get_tensor_by_name('sigma:0')\n",
        "    r_ = g.get_tensor_by_name('r:0')\n",
        "    h_ = g.get_tensor_by_name('h:0')\n",
        "\n",
        "    T_ = g.get_tensor_by_name('T:0')\n",
        "    omega_ = g.get_tensor_by_name('omega:0')\n",
        "    K_ = g.get_tensor_by_name('K:0')\n",
        "    ubs_0_ = g.get_tensor_by_name('ubs_0:0')\n",
        "\n",
        "    time_path_ = g.get_tensor_by_name('time_path:0')\n",
        "    S_path_ = g.get_tensor_by_name('S_path:0')\n",
        "    f_ = g.get_tensor_by_name('f:0')\n",
        "        \n",
        "    weights_bs = g.get_collection(tf.GraphKeys.TRAINABLE_VARIABLES, scope='weights_bs')\n",
        "    biases_bs = g.get_collection(tf.GraphKeys.TRAINABLE_VARIABLES, scope='biases_bs')\n",
        "\n",
        "    weights_w = g.get_collection(tf.GraphKeys.TRAINABLE_VARIABLES, scope='weights_w')\n",
        "    biases_w = g.get_collection(tf.GraphKeys.TRAINABLE_VARIABLES, scope='biases_w')\n",
        "\n",
        "    delta_bs0 = g.get_tensor_by_name('delta_bs0:0')\n",
        "    ubs0 = g.get_tensor_by_name('ubs0:0')\n",
        "\n",
        "    delta_w0 = g.get_tensor_by_name('delta_w0:0')\n",
        "    w0 = g.get_tensor_by_name('w0:0')\n",
        "    MSE_w_T = g.get_tensor_by_name('MSE_w_T:0')\n",
        "        \n",
        "    # generate paths\n",
        "    generator = path_generator(S0 = S0, T = T.max(), r = r, q = q, \n",
        "                               sigma = sigma, nb_step = nb_step)\n",
        "    generator.path_generate(nb_path)\n",
        "\n",
        "    feed_dict = {k:v for k,v in zip([alpha_, sigma_, r_, h_, T_, omega_, K_, ubs_0_, \n",
        "                                     time_path_, S_path_],\n",
        "                                    [alpha, sigma, r, h, T, omega, K, portfolio_BSprice(K = K, omega = omega, T = T, sigma = sigma, r = r, q = q,  S0 = S0), \n",
        "                                     generator.time_path, generator.S_path])}\n",
        "    # Gradient part\n",
        "    gradient_bs = g.get_operation_by_name('gradient_bs')\n",
        "    loss_bs = g.get_tensor_by_name('loss_bs:0')\n",
        "    if f == None:\n",
        "        gradient_w = g.get_operation_by_name('gradient_w_with_f')\n",
        "        loss_w = g.get_tensor_by_name('loss_w_with_f:0')\n",
        "    else:\n",
        "        gradient_w = g.get_operation_by_name('gradient_w_without_f')\n",
        "        loss_w = g.get_tensor_by_name('loss_w_without_f:0')\n",
        "        feed_dict.update({f_: f})\n",
        "\n",
        "    with tf.Session(graph=g) as sess:\n",
        "        sess.run(tf.global_variables_initializer())\n",
        "        err,best_err = np.inf, np.inf\n",
        "        i = 0\n",
        "        if verbose != None:\n",
        "            print('===Training delta_bs, ubs===')\n",
        "        p1 = time.time()\n",
        "        while (err >= eps) and (i <= max_iter_bs):\n",
        "            sess.run(gradient_bs, feed_dict=feed_dict)\n",
        "            err = sess.run(loss_bs, feed_dict=feed_dict)\n",
        "            if verbose != None : \n",
        "                if i % verbose == 0:\n",
        "                    print('iter = {:3} | err = {:.4f}'.format(i, err))\n",
        "            i += 1\n",
        "            if err< best_err:\n",
        "                best_err = err\n",
        "                weights_bs_fitted, biases_bs_fitted, ubs0_fitted, delta_bs_fitted  = sess.run([weights_bs, biases_bs, ubs0, delta_bs0])\n",
        "        feed_dict.update({k: v for k, v in zip(weights_bs+biases_bs, weights_bs_fitted+biases_bs_fitted)})\n",
        "            \n",
        "        err,best_err = np.inf, np.inf\n",
        "        i = 0\n",
        "        if verbose != None:\n",
        "            print('===Training delta_w, w===')\n",
        "        while (err >= eps) and (i <= max_iter_w):\n",
        "            sess.run(gradient_w, feed_dict=feed_dict)\n",
        "            err = sess.run(loss_w, feed_dict=feed_dict)\n",
        "            if verbose != None : \n",
        "                if i % verbose == 0:\n",
        "                    print('iter = {:3} | err = {:.4f}'.format(i, err))\n",
        "            i += 1\n",
        "            if err< best_err:\n",
        "                best_err = err\n",
        "                if f == None:\n",
        "                    w0_fitted, MSE_w_T_fitted, f_fitted =sess.run([w0,MSE_w_T,f_], feed_dict) \n",
        "                else:\n",
        "                    w0_fitted, MSE_w_T_fitted = sess.run([w0,MSE_w_T], feed_dict)\n",
        "    if f == None:\n",
        "        print(f'Fitted f ={f_fitted}')        \n",
        "        return w0_fitted, MSE_w_T_fitted, f_fitted\n",
        "    else: \n",
        "        return w0_fitted, MSE_w_T_fitted"
      ],
      "execution_count": 0,
      "outputs": []
    },
    {
      "cell_type": "markdown",
      "metadata": {
        "id": "-dmosqF6jeN8",
        "colab_type": "text"
      },
      "source": [
        "Setup a graph for monthly time step"
      ]
    },
    {
      "cell_type": "code",
      "metadata": {
        "id": "KBFVhpbjjm_h",
        "colab_type": "code",
        "colab": {
          "base_uri": "https://localhost:8080/",
          "height": 52
        },
        "outputId": "58266db1-eccf-4688-d039-9a66e3b120a1"
      },
      "source": [
        "%%time\n",
        "w2_DL_graph = w2_DL_graph_generator(nb_step = 5*12, lr_bs = .5, lr_w = 0.1, nb_hiddenunits=100)\n"
      ],
      "execution_count": 21,
      "outputs": [
        {
          "output_type": "stream",
          "text": [
            "CPU times: user 29.9 s, sys: 126 ms, total: 30 s\n",
            "Wall time: 30 s\n"
          ],
          "name": "stdout"
        }
      ]
    },
    {
      "cell_type": "code",
      "metadata": {
        "id": "uYyewb3xsh-5",
        "colab_type": "code",
        "colab": {
          "base_uri": "https://localhost:8080/",
          "height": 295
        },
        "outputId": "bc2a62dd-f782-446d-b7cb-837dde687da0"
      },
      "source": [
        "%%time\n",
        "w2_DL_graph_calculator(w2_DL_graph, nb_step= 5*12,\n",
        "              sigma = 0.3, f = 1.2, alpha = 1.0, \n",
        "              omega = np.array([0., 0., 0., 0., 1.]),\n",
        "              K = np.array([110., 115., 120., 125., 107.]),\n",
        "              verbose = 50,max_iter_w = 300)"
      ],
      "execution_count": 24,
      "outputs": [
        {
          "output_type": "stream",
          "text": [
            "===Training delta_bs, ubs===\n",
            "iter =   0 | err = 1150.0205\n",
            "iter =  50 | err = 0.1641\n",
            "iter = 100 | err = 0.0570\n",
            "iter = 150 | err = 0.0502\n",
            "===Training delta_w, w===\n",
            "iter =   0 | err = 235919.8906\n",
            "iter =  50 | err = 331.3831\n",
            "iter = 100 | err = 82.7070\n",
            "iter = 150 | err = 42.9624\n",
            "iter = 200 | err = 27.7169\n",
            "iter = 250 | err = 22.7845\n",
            "iter = 300 | err = 21.4506\n",
            "CPU times: user 1min 36s, sys: 20.1 s, total: 1min 56s\n",
            "Wall time: 1min 45s\n"
          ],
          "name": "stdout"
        },
        {
          "output_type": "execute_result",
          "data": {
            "text/plain": [
              "(9.520191, 21.45057)"
            ]
          },
          "metadata": {
            "tags": []
          },
          "execution_count": 24
        }
      ]
    },
    {
      "cell_type": "code",
      "metadata": {
        "id": "TSUVMFM7yVrO",
        "colab_type": "code",
        "colab": {}
      },
      "source": [
        "%%time\n",
        "for (i,alpha_) in enumerate(alpha[::-1]):\n",
        "    w,_ = w2_DL_graph_calculator(w2_DL_graph, nb_step= 5*12,\n",
        "              sigma = 0.3, f = 0., alpha = alpha_, \n",
        "              omega = np.array([0., 0., 0., 0., 1.]),\n",
        "              K = np.array([110., 115., 120., 125., 107.]),\n",
        "              verbose = None,max_iter_w = 300)\n",
        "    print('alpha = {:.2f} | KVA = {:.5f}'.format(alpha_,w))"
      ],
      "execution_count": 0,
      "outputs": []
    },
    {
      "cell_type": "markdown",
      "metadata": {
        "id": "EfZiydIGydMA",
        "colab_type": "text"
      },
      "source": [
        "For a better performance, the underlying asset $S$ should be normalized before entering into the neutral network.\n",
        "\n",
        "We note that the convergence of the training process for $u_{bs}$ and $\\Delta_{bs}$ is faster than for $w$ and $\\partial_S w$. The received KVA (for exemple at $\\alpha = 1$) is close to the one in the article, even the mean squared loss is large.\n",
        "\n",
        "If reducing the learning rate and increasing the training epoch (say $\\lambda = 0.01$ and $n\\_epoch = 2000$), the loss in KVA's training can decrease more but not go down to ~0.\n",
        "\n",
        "**Attention:** We recognize pratically that the learning rate for training $w$ and $\\partial_S w$ need to be small to make the loss convergent while another one doesn't need to be."
      ]
    },
    {
      "cell_type": "markdown",
      "metadata": {
        "id": "NGLvPSVTyfd9",
        "colab_type": "text"
      },
      "source": [
        "We test the training procedure with $f$ as parameter."
      ]
    },
    {
      "cell_type": "code",
      "metadata": {
        "id": "lhy9KPmGymhW",
        "colab_type": "code",
        "colab": {}
      },
      "source": [
        "%%time\n",
        "w2_DL_graph = w2_DL_graph_generator(nb_step = 5*12, lr_bs = .5, lr_w = 0.05, nb_hiddenunits=100)\n"
      ],
      "execution_count": 0,
      "outputs": []
    },
    {
      "cell_type": "code",
      "metadata": {
        "id": "rnEsaH4UyrSR",
        "colab_type": "code",
        "colab": {}
      },
      "source": [
        "%%time\n",
        "\n",
        "w0, MSE_w_T,_ = w2_DL_graph_calculator(w2_DL_graph, nb_step= 5*12,\n",
        "                                    sigma = 0.3, f = None, alpha = 1.0, \n",
        "                                    omega = np.array([0., 0., 0., 0., 1.]),\n",
        "                                    K = np.array([110., 115., 120., 125., 107.]),\n",
        "                                    verbose = 50,max_iter_w = 2000)\n",
        "print('Estimated KVA at t=0: {0:5.4f}'.format(w0))\n",
        "print('Mean square of KVA at T: {0:5.4f}'.format(MSE_w_T))"
      ],
      "execution_count": 0,
      "outputs": []
    },
    {
      "cell_type": "markdown",
      "metadata": {
        "id": "FJEvU64QU6kn",
        "colab_type": "text"
      },
      "source": [
        "##4.4 All together"
      ]
    },
    {
      "cell_type": "code",
      "metadata": {
        "id": "f91NCrP3t1Z-",
        "colab_type": "code",
        "colab": {}
      },
      "source": [
        "def all_calculator (nb_step = nb_step, nb_path = nb_path):\n",
        "    first_couple_graph = first_couple_graph_generator(degree_poly = 5, nb_step = nb_step)\n",
        "    one_step_update_v1_graph = one_step_update_v1_graph_generator(degree_poly = 1)\n",
        "    w2_DL_graph = w2_DL_graph_generator(nb_step = nb_step, lr_bs = .5, lr_w = 0.1, nb_hiddenunits=100)\n",
        "\n",
        "    FVA_1 = []\n",
        "    KVA_1 = []\n",
        "    FVA_2 = []\n",
        "    KVA_2 = []\n",
        "    time_first_coupe_1 = 0.\n",
        "    time_FVA_2 = 0.\n",
        "    time_KVA_2 = 0.     \n",
        "    for alpha_ in alpha[::-1] :\n",
        "        p1 = time.time()\n",
        "        if alpha_ == 1.:\n",
        "            v_1,w_1,f_1 = first_couple_calculator(first_couple_graph, \n",
        "                                                  nb_step= nb_step, \n",
        "                                                  nb_path = nb_path,\n",
        "                                                  f = None, alpha = alpha_, \n",
        "                                                  verbose = None)\n",
        "        else:\n",
        "            v_1,w_1 = first_couple_calculator(first_couple_graph, \n",
        "                                              nb_step= nb_step,\n",
        "                                              nb_path = nb_path,\n",
        "                                              f = f_1, alpha = alpha_, \n",
        "                                              verbose = None)\n",
        "        time_first_coupe_1 += time.time() - p1\n",
        "            \n",
        "        p2 = time.time()\n",
        "        v_2 = v1_SGD_calculator(one_step_update_v1_graph, nb_step= nb_step,\n",
        "                                nb_path = nb_path,\n",
        "                                f = f_1, alpha = alpha_)\n",
        "        time_FVA_2 += time.time() - p2\n",
        "\n",
        "        p3 = time.time()\n",
        "        w_2,_ = w2_DL_graph_calculator(w2_DL_graph, nb_step= nb_step,\n",
        "                                     f = f_1, alpha = alpha_,\n",
        "                                     verbose = None, max_iter_w = 500)\n",
        "        time_KVA_2 += time.time() - p3 \n",
        "        FVA_1.append(v_1)\n",
        "        KVA_1.append(w_1)\n",
        "        FVA_2.append(v_2)\n",
        "        KVA_2.append(w_2)\n",
        "    time_first_coupe_1 /= len(alpha)\n",
        "    time_FVA_2 /= len(alpha)\n",
        "    time_KVA_2 /= len(alpha)\n",
        "\n",
        "    return FVA_1, KVA_1, FVA_2, KVA_2, time_first_coupe_1, time_FVA_2, time_KVA_2"
      ],
      "execution_count": 0,
      "outputs": []
    },
    {
      "cell_type": "code",
      "metadata": {
        "id": "CNGFmINEuD-L",
        "colab_type": "code",
        "colab": {}
      },
      "source": [
        "%%time\n",
        "FVA_month_1, KVA_month_1, FVA_month_2, KVA_month_2, time_first_coupe_month_1, time_FVA_month_2, time_KVA_month_2 = \\\n",
        "    all_calculator (nb_step = 5*12, nb_path = 10000)"
      ],
      "execution_count": 0,
      "outputs": []
    },
    {
      "cell_type": "code",
      "metadata": {
        "id": "vp4B5_2NuOaI",
        "colab_type": "code",
        "colab": {}
      },
      "source": [
        "%%time\n",
        "FVA_year_1, KVA_year_1, FVA_year_2, KVA_year_2, time_first_coupe_year_1, time_FVA_year_2, time_KVA_year_2 = \\\n",
        "    all_calculator (nb_step = 5, nb_path = 10000)"
      ],
      "execution_count": 0,
      "outputs": []
    },
    {
      "cell_type": "markdown",
      "metadata": {
        "id": "XtPZvqPIVGvc",
        "colab_type": "text"
      },
      "source": [
        "#5 "
      ]
    }
  ]
}